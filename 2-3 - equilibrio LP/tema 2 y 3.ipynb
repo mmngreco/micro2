{
 "cells": [
  {
   "cell_type": "markdown",
   "metadata": {},
   "source": [
    "# INDICE:\n",
    "\n",
    "PROBLEMAS:\n",
    "\n",
    "- [Problema - 1](#1)\n",
    "- [Problema - 2](#2)\n",
    "- [Problema - 3](#3)\n",
    "- [Problema - 4](#4)\n",
    "- [Problema - 5](#5)\n",
    "- [Problema - 6](#6)\n",
    "- [Problema - 7](#7)\n",
    "- [Problema - 8](#8)\n",
    "- [Problema - 9](#9)\n",
    "- [Problema - 10](#10)\n",
    "- [Problema - 11](#11)\n",
    "- [Problema - 12](#12)\n",
    "- [Problema - 13](#13)\n",
    "- [Problema - 14](#14)\n",
    "- [Problema - 15](#15)\n",
    "- [Problema - 16](#16)\n",
    "- [Problema - 17](#17)\n",
    "- [Problema - 18](#18)\n",
    "- [Problema - 19](#19)\n",
    "- [Problema - 20](#20)\n",
    "- [Problema - 21](#21)\n",
    "- [Problema - 22](#22)\n",
    "- [Problema - 23](#23)\n",
    "- [Problema - 24](#24)\n",
    "- [Problema - 25](#25)\n",
    "- [Problema - 26](#26)\n",
    "- [Problema - 27](#27)\n",
    "- [Problema - 28](#28)\n",
    "- [Problema - 29](#29)\n",
    "- [Problema - 30](#30)\n"
   ]
  },
  {
   "cell_type": "code",
   "execution_count": 1,
   "metadata": {
    "collapsed": false
   },
   "outputs": [
    {
     "name": "stdout",
     "output_type": "stream",
     "text": [
      "IPython console for SymPy 0.7.6 (Python 3.4.3-64-bit) (ground types: python)\n",
      "\n",
      "These commands were executed:\n",
      ">>> from __future__ import division\n",
      ">>> from sympy import *\n",
      ">>> x, y, z, t = symbols('x y z t')\n",
      ">>> k, m, n = symbols('k m n', integer=True)\n",
      ">>> f, g, h = symbols('f g h', cls=Function)\n",
      ">>> init_printing()\n",
      "\n",
      "Documentation can be found at http://www.sympy.org\n"
     ]
    },
    {
     "name": "stderr",
     "output_type": "stream",
     "text": [
      "Vendor:  Continuum Analytics, Inc.\n",
      "Package: mkl\n",
      "Message: trial mode expires in 30 days\n"
     ]
    }
   ],
   "source": [
    "import numpy as np\n",
    "from sympy import *\n",
    "import matplotlib.pyplot as plt\n",
    "import tabulate\n",
    "init_session()\n",
    "init_printing(use_latex='mathjax') \n",
    "\n",
    "%matplotlib inline"
   ]
  },
  {
   "cell_type": "code",
   "execution_count": 2,
   "metadata": {
    "collapsed": true
   },
   "outputs": [],
   "source": [
    "q, Q, P, a, b, c = symbols('q Q P a b c')"
   ]
  },
  {
   "cell_type": "markdown",
   "metadata": {},
   "source": [
    "# EJERCICIOS PARTE I: \n",
    "## TEORÍA DE LOS MERCADOS COMPETITIVOS (Temas 2 y 3)"
   ]
  },
  {
   "cell_type": "raw",
   "metadata": {},
   "source": [
    "for i in range(30):\n",
    "    i = i + 1\n",
    "    res = '- [Problema - %s](#%s)' % (i,i)\n",
    "    print(res)"
   ]
  },
  {
   "cell_type": "markdown",
   "metadata": {},
   "source": [
    "# 1\n",
    "\n",
    "La función de costes totales de una empresa en competencia perfecta es: \n",
    "\n",
    "$CT=q^3-6q^2+16q +100$\n",
    "\n",
    "Determinar la cantidad producida por la empresa y su beneficio, representando gráficamente, si el precio de mercado fuera:\n",
    "\n",
    "- a) P=4\n",
    "- b) P=7\n",
    "- c) P=16\n",
    "- d) P=31\n",
    "- e) P=52"
   ]
  },
  {
   "cell_type": "code",
   "execution_count": 175,
   "metadata": {
    "collapsed": false
   },
   "outputs": [
    {
     "name": "stdout",
     "output_type": "stream",
     "text": [
      "P = 3 q^{2} - 12 q + 16\n",
      "4 = 3 q^{2} - 12 q + 16\n",
      "[2]\n",
      "----------\n",
      "7 = 3 q^{2} - 12 q + 16\n",
      "[1, 3]\n",
      "----------\n",
      "16 = 3 q^{2} - 12 q + 16\n",
      "[0, 4]\n",
      "----------\n",
      "31 = 3 q^{2} - 12 q + 16\n",
      "[-1, 5]\n",
      "----------\n",
      "52 = 3 q^{2} - 12 q + 16\n",
      "[-2, 6]\n",
      "----------\n"
     ]
    }
   ],
   "source": [
    "precios = [4, 7, 16, 31, 52]\n",
    "CT, q, P = symbols('CT q P')\n",
    "\n",
    "ct = q ** 3 - 6 * q** 2 + 16*q + 100\n",
    "cmg = diff(ct, q)\n",
    "eq = cmg - P\n",
    "print(latex(Eq(P,cmg)))\n",
    "for p in precios:\n",
    "    print(latex(Eq(P,cmg).subs(P,p)))\n",
    "    print(solve(eq.subs(P,p), q))\n",
    "    print('-'*10)"
   ]
  },
  {
   "cell_type": "code",
   "execution_count": 176,
   "metadata": {
    "collapsed": false
   },
   "outputs": [
    {
     "data": {
      "image/png": "[encoded data removed]",
      "text/plain": [
       "<matplotlib.figure.Figure at 0x10ee6c828>"
      ]
     },
     "metadata": {},
     "output_type": "display_data"
    },
    {
     "data": {
      "text/plain": [
       "<sympy.plotting.plot.Plot at 0x10ee6ce80>"
      ]
     },
     "execution_count": 176,
     "metadata": {},
     "output_type": "execute_result"
    }
   ],
   "source": [
    "plot(ct, cmg, (q, 0,7), xlabel='q', ylabel='ct, cmg, P')"
   ]
  },
  {
   "cell_type": "code",
   "execution_count": 178,
   "metadata": {
    "collapsed": false
   },
   "outputs": [
    {
     "data": {
      "image/png": "[encoded data removed]",
      "text/plain": [
       "<matplotlib.figure.Figure at 0x10ee97f28>"
      ]
     },
     "metadata": {},
     "output_type": "display_data"
    }
   ],
   "source": [
    "for p in precios:\n",
    "    plt.scatter(x=solve(Eq(P,cmg).subs(P,p),q)[-1], y=p)"
   ]
  },
  {
   "cell_type": "code",
   "execution_count": 181,
   "metadata": {
    "collapsed": true
   },
   "outputs": [],
   "source": [
    "beneficio = P * q - ct"
   ]
  },
  {
   "cell_type": "code",
   "execution_count": 194,
   "metadata": {
    "collapsed": false
   },
   "outputs": [
    {
     "data": {
      "text/latex": [
       "$$P q - q^{3} + 6 q^{2} - 16 q - 100$$"
      ],
      "text/plain": [
       "       3      2             \n",
       "P⋅q - q  + 6⋅q  - 16⋅q - 100"
      ]
     },
     "execution_count": 194,
     "metadata": {},
     "output_type": "execute_result"
    }
   ],
   "source": [
    "beneficio"
   ]
  },
  {
   "cell_type": "code",
   "execution_count": 195,
   "metadata": {
    "collapsed": false
   },
   "outputs": [
    {
     "data": {
      "text/latex": [
       "$$- q^{3} + 6 q^{2} + q \\left(3 q^{2} - 12 q + 16\\right) - 16 q - 100$$"
      ],
      "text/plain": [
       "   3      2     ⎛   2            ⎞             \n",
       "- q  + 6⋅q  + q⋅⎝3⋅q  - 12⋅q + 16⎠ - 16⋅q - 100"
      ]
     },
     "execution_count": 195,
     "metadata": {},
     "output_type": "execute_result"
    }
   ],
   "source": [
    "_.subs(P, cmg)"
   ]
  },
  {
   "cell_type": "code",
   "execution_count": 196,
   "metadata": {
    "collapsed": false
   },
   "outputs": [
    {
     "data": {
      "text/latex": [
       "$$2 q^{3} - 6 q^{2} - 100$$"
      ],
      "text/plain": [
       "   3      2      \n",
       "2⋅q  - 6⋅q  - 100"
      ]
     },
     "execution_count": 196,
     "metadata": {},
     "output_type": "execute_result"
    }
   ],
   "source": [
    "_.simplify()"
   ]
  },
  {
   "cell_type": "code",
   "execution_count": 197,
   "metadata": {
    "collapsed": false
   },
   "outputs": [
    {
     "data": {
      "text/latex": [
       "$$- P + 3 q^{2} - 12 q + 16$$"
      ],
      "text/plain": [
       "        2            \n",
       "-P + 3⋅q  - 12⋅q + 16"
      ]
     },
     "execution_count": 197,
     "metadata": {},
     "output_type": "execute_result"
    }
   ],
   "source": [
    "cmg - P"
   ]
  },
  {
   "cell_type": "code",
   "execution_count": 198,
   "metadata": {
    "collapsed": false
   },
   "outputs": [
    {
     "data": {
      "text/latex": [
       "$$\\frac{1}{3} \\sqrt{3 P - 12} + 2$$"
      ],
      "text/plain": [
       "  __________    \n",
       "╲╱ 3⋅P - 12     \n",
       "──────────── + 2\n",
       "     3          "
      ]
     },
     "execution_count": 198,
     "metadata": {},
     "output_type": "execute_result"
    }
   ],
   "source": [
    "solve(_, q)[1]"
   ]
  },
  {
   "cell_type": "code",
   "execution_count": 199,
   "metadata": {
    "collapsed": false
   },
   "outputs": [
    {
     "data": {
      "text/latex": [
       "$$\\frac{1}{3} \\sqrt{3 P - 12} + 2$$"
      ],
      "text/plain": [
       "  __________    \n",
       "╲╱ 3⋅P - 12     \n",
       "──────────── + 2\n",
       "     3          "
      ]
     },
     "execution_count": 199,
     "metadata": {},
     "output_type": "execute_result"
    }
   ],
   "source": [
    "_.simplify()"
   ]
  },
  {
   "cell_type": "code",
   "execution_count": 200,
   "metadata": {
    "collapsed": false
   },
   "outputs": [
    {
     "data": {
      "text/latex": [
       "$$- \\frac{16}{3} \\sqrt{3 P - 12} - \\left(\\frac{1}{3} \\sqrt{3 P - 12} + 2\\right)^{3} + 6 \\left(\\frac{1}{3} \\sqrt{3 P - 12} + 2\\right)^{2} + \\left(\\frac{1}{3} \\sqrt{3 P - 12} + 2\\right) \\left(- 4 \\sqrt{3 P - 12} + 3 \\left(\\frac{1}{3} \\sqrt{3 P - 12} + 2\\right)^{2} - 8\\right) - 132$$"
      ],
      "text/plain": [
       "                                      3                       2               \n",
       "       __________   ⎛  __________    ⎞      ⎛  __________    ⎞    ⎛  _________\n",
       "  16⋅╲╱ 3⋅P - 12    ⎜╲╱ 3⋅P - 12     ⎟      ⎜╲╱ 3⋅P - 12     ⎟    ⎜╲╱ 3⋅P - 12\n",
       "- ─────────────── - ⎜──────────── + 2⎟  + 6⋅⎜──────────── + 2⎟  + ⎜───────────\n",
       "         3          ⎝     3          ⎠      ⎝     3          ⎠    ⎝     3     \n",
       "\n",
       "       ⎛                                       2    ⎞      \n",
       "_    ⎞ ⎜                     ⎛  __________    ⎞     ⎟      \n",
       "     ⎟ ⎜      __________     ⎜╲╱ 3⋅P - 12     ⎟     ⎟      \n",
       "─ + 2⎟⋅⎜- 4⋅╲╱ 3⋅P - 12  + 3⋅⎜──────────── + 2⎟  - 8⎟ - 132\n",
       "     ⎠ ⎝                     ⎝     3          ⎠     ⎠      "
      ]
     },
     "execution_count": 200,
     "metadata": {},
     "output_type": "execute_result"
    }
   ],
   "source": [
    "beneficio.subs({P: cmg, q: _})"
   ]
  },
  {
   "cell_type": "code",
   "execution_count": 201,
   "metadata": {
    "collapsed": false
   },
   "outputs": [
    {
     "data": {
      "text/latex": [
       "$$\\frac{2 P}{9} \\sqrt{3 P - 12} + 2 P - \\frac{8}{9} \\sqrt{3 P - 12} - 116$$"
      ],
      "text/plain": [
       "      __________             __________      \n",
       "2⋅P⋅╲╱ 3⋅P - 12          8⋅╲╱ 3⋅P - 12       \n",
       "──────────────── + 2⋅P - ────────────── - 116\n",
       "       9                       9             "
      ]
     },
     "execution_count": 201,
     "metadata": {},
     "output_type": "execute_result"
    }
   ],
   "source": [
    "_.simplify()"
   ]
  },
  {
   "cell_type": "code",
   "execution_count": 202,
   "metadata": {
    "collapsed": true
   },
   "outputs": [],
   "source": [
    "b_p = _"
   ]
  },
  {
   "cell_type": "code",
   "execution_count": 207,
   "metadata": {
    "collapsed": false
   },
   "outputs": [
    {
     "data": {
      "text/latex": [
       "$$116$$"
      ],
      "text/plain": [
       "116"
      ]
     },
     "execution_count": 207,
     "metadata": {},
     "output_type": "execute_result"
    }
   ],
   "source": [
    "d_p - "
   ]
  },
  {
   "cell_type": "code",
   "execution_count": null,
   "metadata": {
    "collapsed": true
   },
   "outputs": [],
   "source": []
  },
  {
   "cell_type": "markdown",
   "metadata": {},
   "source": [
    "# 2) Dada la siguiente función de costes de un empresario: \n",
    "\n",
    "$CT = 4q^3-24q^2+48q+400$\n",
    "\n",
    "Determinar e ilustrar gráficamente la decisión óptima para el empresario en cada caso, sabiendo que vende su producto en un mercado competitivo en el que el precio es:\n",
    "\n",
    "- a) P= 12 \n",
    "- b) P=48    \n",
    "- c) P=108 \n",
    "- d) P=300"
   ]
  },
  {
   "cell_type": "code",
   "execution_count": 76,
   "metadata": {
    "collapsed": true
   },
   "outputs": [],
   "source": [
    "precios = np.array([4, 7, 16, 31, 52])\n",
    "CT, q, P = symbols('CT q P')\n",
    "\n",
    "ct = q ** 3 - 6 * q** 2 + 16*q + 100\n",
    "ct *= 4"
   ]
  },
  {
   "cell_type": "code",
   "execution_count": 77,
   "metadata": {
    "collapsed": false
   },
   "outputs": [
    {
     "data": {
      "text/latex": [
       "$$4 q^{3} - 24 q^{2} + 64 q + 400$$"
      ],
      "text/plain": [
       "   3       2             \n",
       "4⋅q  - 24⋅q  + 64⋅q + 400"
      ]
     },
     "execution_count": 77,
     "metadata": {},
     "output_type": "execute_result"
    }
   ],
   "source": [
    "ct"
   ]
  },
  {
   "cell_type": "code",
   "execution_count": 78,
   "metadata": {
    "collapsed": false
   },
   "outputs": [
    {
     "data": {
      "text/latex": [
       "$$12 q^{2} - 48 q + 64$$"
      ],
      "text/plain": [
       "    2            \n",
       "12⋅q  - 48⋅q + 64"
      ]
     },
     "execution_count": 78,
     "metadata": {},
     "output_type": "execute_result"
    }
   ],
   "source": [
    "cmg = diff(ct, q)\n",
    "cmg"
   ]
  },
  {
   "cell_type": "code",
   "execution_count": 79,
   "metadata": {
    "collapsed": false
   },
   "outputs": [],
   "source": [
    "equilibrio = lambdify(P, solve(Eq(P,cmg), q), np)\n"
   ]
  },
  {
   "cell_type": "code",
   "execution_count": 80,
   "metadata": {
    "collapsed": false
   },
   "outputs": [
    {
     "name": "stdout",
     "output_type": "stream",
     "text": [
      "  q1    q2    q3        q4        q5\n",
      "----  ----  ----  --------  --------\n",
      " nan   nan     2  0.881966  0.267949\n",
      " nan   nan     2  3.11803   3.73205\n"
     ]
    },
    {
     "name": "stderr",
     "output_type": "stream",
     "text": [
      "/Users/mmngreco/anaconda/envs/py3/lib/python3.4/site-packages/numpy/__init__.py:1: RuntimeWarning: invalid value encountered in sqrt\n",
      "  \"\"\"\n"
     ]
    }
   ],
   "source": [
    "print(tabulate.tabulate(equilibrio(precios), \n",
    "                        headers=['q%s' % i for i in range(1,len(precios)+ 1)]))"
   ]
  },
  {
   "cell_type": "code",
   "execution_count": 86,
   "metadata": {
    "collapsed": false
   },
   "outputs": [
    {
     "data": {
      "image/png": "[encoded data removed]",
      "text/plain": [
       "<matplotlib.figure.Figure at 0x10d555160>"
      ]
     },
     "metadata": {},
     "output_type": "display_data"
    },
    {
     "data": {
      "text/plain": [
       "<sympy.plotting.plot.Plot at 0x10d555748>"
      ]
     },
     "execution_count": 86,
     "metadata": {},
     "output_type": "execute_result"
    }
   ],
   "source": [
    "plot(ct, cmg, (q,-3,6))"
   ]
  },
  {
   "cell_type": "markdown",
   "metadata": {},
   "source": [
    "# 3) Dada    la    siguiente    función    de    costes    de    un    empresario: \n",
    "\n",
    "$CT=\\frac{1}{3}q^3 -12q^2 +150q+2304$\n",
    "\n",
    "Determinar e ilustrar gráficamente la decisión óptima para el empresario en cada caso, sabiendo que vende su producto en un mercado competitivo en el que el precio es:\n",
    "\n",
    "- a) P= 22 \n",
    "- b) P=42\n",
    "- c) P=70    \n",
    "- d) P=150 \n",
    "- e) P=330"
   ]
  },
  {
   "cell_type": "code",
   "execution_count": 82,
   "metadata": {
    "collapsed": true
   },
   "outputs": [],
   "source": [
    "precios = np.array([22, 42, 70, 150, 330])\n",
    "CT, q, P = symbols('CT q P')"
   ]
  },
  {
   "cell_type": "code",
   "execution_count": 27,
   "metadata": {
    "collapsed": false
   },
   "outputs": [
    {
     "data": {
      "text/latex": [
       "$$0.333333333333333 q^{3} - 12 q^{2} + 150 q + 2304$$"
      ],
      "text/plain": [
       "                   3       2               \n",
       "0.333333333333333⋅q  - 12⋅q  + 150⋅q + 2304"
      ]
     },
     "execution_count": 27,
     "metadata": {},
     "output_type": "execute_result"
    }
   ],
   "source": [
    "ct = 1/3 * q ** 3 - 12 * q** 2 + 150 * q + 2304\n",
    "ct"
   ]
  },
  {
   "cell_type": "markdown",
   "metadata": {},
   "source": [
    "## En el equilibrio P = Cmg\n",
    "\n",
    "Hallar el coste marginal:"
   ]
  },
  {
   "cell_type": "code",
   "execution_count": 28,
   "metadata": {
    "collapsed": false
   },
   "outputs": [
    {
     "data": {
      "text/latex": [
       "$$1.0 q^{2} - 24 q + 150$$"
      ],
      "text/plain": [
       "     2             \n",
       "1.0⋅q  - 24⋅q + 150"
      ]
     },
     "execution_count": 28,
     "metadata": {},
     "output_type": "execute_result"
    }
   ],
   "source": [
    "ct.diff(q)"
   ]
  },
  {
   "cell_type": "code",
   "execution_count": 29,
   "metadata": {
    "collapsed": true
   },
   "outputs": [],
   "source": [
    "cmg = _"
   ]
  },
  {
   "cell_type": "markdown",
   "metadata": {},
   "source": [
    "### P = C'"
   ]
  },
  {
   "cell_type": "code",
   "execution_count": 30,
   "metadata": {
    "collapsed": false
   },
   "outputs": [
    {
     "data": {
      "text/latex": [
       "$$P = 1.0 q^{2} - 24 q + 150$$"
      ],
      "text/plain": [
       "         2             \n",
       "P = 1.0⋅q  - 24⋅q + 150"
      ]
     },
     "execution_count": 30,
     "metadata": {},
     "output_type": "execute_result"
    }
   ],
   "source": [
    "Eq(P,cmg)"
   ]
  },
  {
   "cell_type": "code",
   "execution_count": 31,
   "metadata": {
    "collapsed": true
   },
   "outputs": [],
   "source": [
    "equilibrio = _"
   ]
  },
  {
   "cell_type": "markdown",
   "metadata": {},
   "source": [
    "### P(q)"
   ]
  },
  {
   "cell_type": "code",
   "execution_count": 32,
   "metadata": {
    "collapsed": false
   },
   "outputs": [
    {
     "data": {
      "text/latex": [
       "$$\\left [ - \\sqrt{P - 6.0} + 12.0, \\quad \\sqrt{P - 6.0} + 12.0\\right ]$$"
      ],
      "text/plain": [
       "⎡    _________           _________       ⎤\n",
       "⎣- ╲╱ P - 6.0  + 12.0, ╲╱ P - 6.0  + 12.0⎦"
      ]
     },
     "execution_count": 32,
     "metadata": {},
     "output_type": "execute_result"
    }
   ],
   "source": [
    "solve(equilibrio, q)"
   ]
  },
  {
   "cell_type": "code",
   "execution_count": 33,
   "metadata": {
    "collapsed": true
   },
   "outputs": [],
   "source": [
    "eq = lambdify(P, _, np)"
   ]
  },
  {
   "cell_type": "markdown",
   "metadata": {},
   "source": [
    "## $q_i$"
   ]
  },
  {
   "cell_type": "code",
   "execution_count": 34,
   "metadata": {
    "collapsed": false
   },
   "outputs": [
    {
     "name": "stdout",
     "output_type": "stream",
     "text": [
      "  q1    q2    q3    q4    q5\n",
      "----  ----  ----  ----  ----\n",
      "   8     6     4     0    -6\n",
      "  16    18    20    24    30\n"
     ]
    }
   ],
   "source": [
    "print(tabulate.tabulate(eq(precios), \n",
    "                        headers=['q%s' % i for i in range(1,len(precios)+1)]))"
   ]
  },
  {
   "cell_type": "markdown",
   "metadata": {},
   "source": [
    "### GRÁFICO: CT y C'"
   ]
  },
  {
   "cell_type": "code",
   "execution_count": 35,
   "metadata": {
    "collapsed": false
   },
   "outputs": [
    {
     "data": {
      "image/png": "[encoded data removed]",
      "text/plain": [
       "<matplotlib.figure.Figure at 0x10c850048>"
      ]
     },
     "metadata": {},
     "output_type": "display_data"
    },
    {
     "data": {
      "text/plain": [
       "<sympy.plotting.plot.Plot at 0x10c850978>"
      ]
     },
     "execution_count": 35,
     "metadata": {},
     "output_type": "execute_result"
    }
   ],
   "source": [
    "plot(ct,cmg, (q, 0,30))"
   ]
  },
  {
   "cell_type": "markdown",
   "metadata": {},
   "source": [
    "# 4) Una empresa competitiva tiene una función de costes definida por: \n",
    "\n",
    "$$CT =3q^2 +8q+588$$\n",
    "\n",
    "- a) Obtener la expresión de la curva de oferta. Representar gráficamente.\n",
    "- b) Calcule el precio correspondiente al óptimo de la explotación. ¿Cuál es el beneficio de la empresa para este precio? Representar gráficamente.\n",
    "- c) ¿A partir de qué precio la empresa participará en el mercado? Si ese fuera el precio de mercado, ¿cuál sería el nivel de beneficios de la empresa?"
   ]
  },
  {
   "cell_type": "code",
   "execution_count": 222,
   "metadata": {
    "collapsed": false
   },
   "outputs": [
    {
     "data": {
      "text/latex": [
       "$$3 q^{2} + 8 q + 588$$"
      ],
      "text/plain": [
       "   2            \n",
       "3⋅q  + 8⋅q + 588"
      ]
     },
     "execution_count": 222,
     "metadata": {},
     "output_type": "execute_result"
    }
   ],
   "source": [
    "#Función de costes:\n",
    "ct = 3 * q ** 2 + 8 * q + 588\n",
    "ct"
   ]
  },
  {
   "cell_type": "code",
   "execution_count": 223,
   "metadata": {
    "collapsed": false
   },
   "outputs": [
    {
     "data": {
      "text/latex": [
       "$$3 q^{2} + 8 q$$"
      ],
      "text/plain": [
       "   2      \n",
       "3⋅q  + 8⋅q"
      ]
     },
     "execution_count": 223,
     "metadata": {},
     "output_type": "execute_result"
    }
   ],
   "source": [
    "ct - 588"
   ]
  },
  {
   "cell_type": "code",
   "execution_count": 224,
   "metadata": {
    "collapsed": false
   },
   "outputs": [
    {
     "data": {
      "text/latex": [
       "$$\\frac{1}{q} \\left(3 q^{2} + 8 q\\right)$$"
      ],
      "text/plain": [
       "   2      \n",
       "3⋅q  + 8⋅q\n",
       "──────────\n",
       "    q     "
      ]
     },
     "execution_count": 224,
     "metadata": {},
     "output_type": "execute_result"
    }
   ],
   "source": [
    "_ / q"
   ]
  },
  {
   "cell_type": "code",
   "execution_count": 225,
   "metadata": {
    "collapsed": false
   },
   "outputs": [
    {
     "data": {
      "text/latex": [
       "$$- 6 q - 8 + \\frac{1}{q} \\left(3 q^{2} + 8 q\\right)$$"
      ],
      "text/plain": [
       "              2      \n",
       "           3⋅q  + 8⋅q\n",
       "-6⋅q - 8 + ──────────\n",
       "               q     "
      ]
     },
     "execution_count": 225,
     "metadata": {},
     "output_type": "execute_result"
    }
   ],
   "source": [
    "_  - cmg"
   ]
  },
  {
   "cell_type": "code",
   "execution_count": 226,
   "metadata": {
    "collapsed": false
   },
   "outputs": [
    {
     "data": {
      "text/latex": [
       "$$- 3 q$$"
      ],
      "text/plain": [
       "-3⋅q"
      ]
     },
     "execution_count": 226,
     "metadata": {},
     "output_type": "execute_result"
    }
   ],
   "source": [
    "_.simplify()"
   ]
  },
  {
   "cell_type": "code",
   "execution_count": 227,
   "metadata": {
    "collapsed": false
   },
   "outputs": [
    {
     "data": {
      "text/latex": [
       "$$\\left [ 0\\right ]$$"
      ],
      "text/plain": [
       "[0]"
      ]
     },
     "execution_count": 227,
     "metadata": {},
     "output_type": "execute_result"
    }
   ],
   "source": [
    "solve(_, q)"
   ]
  },
  {
   "cell_type": "code",
   "execution_count": null,
   "metadata": {
    "collapsed": true
   },
   "outputs": [],
   "source": []
  },
  {
   "cell_type": "markdown",
   "metadata": {},
   "source": [
    "## COSTE MARGINAL:"
   ]
  },
  {
   "cell_type": "code",
   "execution_count": 212,
   "metadata": {
    "collapsed": false
   },
   "outputs": [
    {
     "data": {
      "text/latex": [
       "$$6 q + 8$$"
      ],
      "text/plain": [
       "6⋅q + 8"
      ]
     },
     "execution_count": 212,
     "metadata": {},
     "output_type": "execute_result"
    }
   ],
   "source": [
    "ct.diff(q)"
   ]
  },
  {
   "cell_type": "code",
   "execution_count": 213,
   "metadata": {
    "collapsed": true
   },
   "outputs": [],
   "source": [
    "cmg = _"
   ]
  },
  {
   "cell_type": "markdown",
   "metadata": {},
   "source": [
    "## P = C' "
   ]
  },
  {
   "cell_type": "code",
   "execution_count": 214,
   "metadata": {
    "collapsed": false
   },
   "outputs": [
    {
     "data": {
      "text/latex": [
       "$$P = 6 q + 8$$"
      ],
      "text/plain": [
       "P = 6⋅q + 8"
      ]
     },
     "execution_count": 214,
     "metadata": {},
     "output_type": "execute_result"
    }
   ],
   "source": [
    "Eq(P, cmg)  # P = Cmg"
   ]
  },
  {
   "cell_type": "code",
   "execution_count": 220,
   "metadata": {
    "collapsed": false
   },
   "outputs": [],
   "source": [
    "pa = 92"
   ]
  },
  {
   "cell_type": "markdown",
   "metadata": {},
   "source": [
    "## GRAFICO: CMG"
   ]
  },
  {
   "cell_type": "code",
   "execution_count": 221,
   "metadata": {
    "collapsed": false
   },
   "outputs": [
    {
     "data": {
      "image/png": "[encoded data removed]",
      "text/plain": [
       "<matplotlib.figure.Figure at 0x10f7ca5c0>"
      ]
     },
     "metadata": {},
     "output_type": "display_data"
    },
    {
     "data": {
      "text/plain": [
       "<sympy.plotting.plot.Plot at 0x10f7d39e8>"
      ]
     },
     "execution_count": 221,
     "metadata": {},
     "output_type": "execute_result"
    }
   ],
   "source": [
    "plot(cmg, pa, (q,0,15))"
   ]
  },
  {
   "cell_type": "markdown",
   "metadata": {},
   "source": [
    "## BENEFICIO "
   ]
  },
  {
   "cell_type": "code",
   "execution_count": 141,
   "metadata": {
    "collapsed": false
   },
   "outputs": [
    {
     "data": {
      "text/latex": [
       "$$P q - 3 q^{2} - 8 q - 588$$"
      ],
      "text/plain": [
       "         2            \n",
       "P⋅q - 3⋅q  - 8⋅q - 588"
      ]
     },
     "execution_count": 141,
     "metadata": {},
     "output_type": "execute_result"
    }
   ],
   "source": [
    "P * q - ct"
   ]
  },
  {
   "cell_type": "code",
   "execution_count": 60,
   "metadata": {
    "collapsed": true
   },
   "outputs": [],
   "source": [
    "beneficio = _"
   ]
  },
  {
   "cell_type": "markdown",
   "metadata": {},
   "source": [
    "## PRECIO EN OE\n",
    "\n",
    "En el óptimo de explotación: \n",
    "$\\overline{CT} = C'$"
   ]
  },
  {
   "cell_type": "code",
   "execution_count": 156,
   "metadata": {
    "collapsed": false
   },
   "outputs": [
    {
     "data": {
      "text/latex": [
       "$$- 6 q - 8 + \\frac{1}{q} \\left(3 q^{2} + 8 q + 588\\right)$$"
      ],
      "text/plain": [
       "              2            \n",
       "           3⋅q  + 8⋅q + 588\n",
       "-6⋅q - 8 + ────────────────\n",
       "                  q        "
      ]
     },
     "execution_count": 156,
     "metadata": {},
     "output_type": "execute_result"
    }
   ],
   "source": [
    "ct / q - cmg"
   ]
  },
  {
   "cell_type": "markdown",
   "metadata": {},
   "source": [
    "### $q^{OE} = $"
   ]
  },
  {
   "cell_type": "code",
   "execution_count": 157,
   "metadata": {
    "collapsed": false
   },
   "outputs": [
    {
     "data": {
      "text/latex": [
       "$$14$$"
      ],
      "text/plain": [
       "14"
      ]
     },
     "execution_count": 157,
     "metadata": {},
     "output_type": "execute_result"
    }
   ],
   "source": [
    "solve(_, q)[1]"
   ]
  },
  {
   "cell_type": "markdown",
   "metadata": {},
   "source": [
    "### $P^{OE} =$"
   ]
  },
  {
   "cell_type": "code",
   "execution_count": 165,
   "metadata": {
    "collapsed": false
   },
   "outputs": [
    {
     "data": {
      "text/latex": [
       "$$92$$"
      ],
      "text/plain": [
       "92"
      ]
     },
     "execution_count": 165,
     "metadata": {},
     "output_type": "execute_result"
    }
   ],
   "source": [
    "cmg.subs(q, 14)"
   ]
  },
  {
   "cell_type": "code",
   "execution_count": 166,
   "metadata": {
    "collapsed": true
   },
   "outputs": [],
   "source": [
    "Poe = _"
   ]
  },
  {
   "cell_type": "code",
   "execution_count": 164,
   "metadata": {
    "collapsed": false
   },
   "outputs": [
    {
     "data": {
      "text/latex": [
       "$$P q - 3 q^{2} - 8 q - 588$$"
      ],
      "text/plain": [
       "         2            \n",
       "P⋅q - 3⋅q  - 8⋅q - 588"
      ]
     },
     "execution_count": 164,
     "metadata": {},
     "output_type": "execute_result"
    }
   ],
   "source": [
    "beneficio"
   ]
  },
  {
   "cell_type": "code",
   "execution_count": 173,
   "metadata": {
    "collapsed": false
   },
   "outputs": [
    {
     "data": {
      "text/latex": [
       "$$0$$"
      ],
      "text/plain": [
       "0"
      ]
     },
     "execution_count": 173,
     "metadata": {},
     "output_type": "execute_result"
    }
   ],
   "source": [
    "beneficio.subs({P: 92, q: 14})"
   ]
  },
  {
   "cell_type": "code",
   "execution_count": 174,
   "metadata": {
    "collapsed": false
   },
   "outputs": [
    {
     "data": {
      "image/png": "[encoded data removed]",
      "text/plain": [
       "<matplotlib.figure.Figure at 0x10ee49940>"
      ]
     },
     "metadata": {},
     "output_type": "display_data"
    },
    {
     "data": {
      "text/plain": [
       "<sympy.plotting.plot.Plot at 0x10ee522b0>"
      ]
     },
     "execution_count": 174,
     "metadata": {},
     "output_type": "execute_result"
    }
   ],
   "source": [
    "plot(cmg, ct/q, Poe, (q,1,15))"
   ]
  },
  {
   "cell_type": "markdown",
   "metadata": {},
   "source": [
    "# 5\n",
    "\n",
    "Una empresa competitiva tiene una función de costes totales que viene determinada por la expresión: \n",
    "\n",
    "$CT= 5q^2 +3q + 125$\n",
    "\n",
    "Se pide:\n",
    "\n",
    "- a) Sabiendo que P=33, hallar la cantidad lanzada por la empresa y el beneficio obtenido.\n",
    "- b) Hallar la curva de oferta individual.\n",
    "- c) ¿Cuál debería ser el precio de mercado para que el empresario obtuviera un beneficio nulo?\n",
    "- d) Hallar la curva de oferta de mercado si en ese mercado hay 100 empresas idénticas."
   ]
  },
  {
   "cell_type": "code",
   "execution_count": 228,
   "metadata": {
    "collapsed": false
   },
   "outputs": [
    {
     "data": {
      "text/latex": [
       "$$5 q^{2} + 3 q + 125$$"
      ],
      "text/plain": [
       "   2            \n",
       "5⋅q  + 3⋅q + 125"
      ]
     },
     "execution_count": 228,
     "metadata": {},
     "output_type": "execute_result"
    }
   ],
   "source": [
    "ct = 5 * q ** 2 + 3 * q + 125\n",
    "ct"
   ]
  },
  {
   "cell_type": "code",
   "execution_count": 229,
   "metadata": {
    "collapsed": false
   },
   "outputs": [
    {
     "data": {
      "text/latex": [
       "$$10 q + 3$$"
      ],
      "text/plain": [
       "10⋅q + 3"
      ]
     },
     "execution_count": 229,
     "metadata": {},
     "output_type": "execute_result"
    }
   ],
   "source": [
    "_.diff(q)"
   ]
  },
  {
   "cell_type": "code",
   "execution_count": 230,
   "metadata": {
    "collapsed": true
   },
   "outputs": [],
   "source": [
    "cmg = _"
   ]
  },
  {
   "cell_type": "code",
   "execution_count": 231,
   "metadata": {
    "collapsed": true
   },
   "outputs": [],
   "source": [
    "pa = 33"
   ]
  },
  {
   "cell_type": "code",
   "execution_count": 239,
   "metadata": {
    "collapsed": false
   },
   "outputs": [
    {
     "data": {
      "text/latex": [
       "$$- P + 10 q + 3$$"
      ],
      "text/plain": [
       "-P + 10⋅q + 3"
      ]
     },
     "execution_count": 239,
     "metadata": {},
     "output_type": "execute_result"
    }
   ],
   "source": [
    "cmg - P"
   ]
  },
  {
   "cell_type": "code",
   "execution_count": 240,
   "metadata": {
    "collapsed": false
   },
   "outputs": [
    {
     "data": {
      "text/latex": [
       "$$\\frac{P}{10} - \\frac{3}{10}$$"
      ],
      "text/plain": [
       "P    3 \n",
       "── - ──\n",
       "10   10"
      ]
     },
     "execution_count": 240,
     "metadata": {},
     "output_type": "execute_result"
    }
   ],
   "source": [
    "solve(_, q)[0]"
   ]
  },
  {
   "cell_type": "code",
   "execution_count": 241,
   "metadata": {
    "collapsed": true
   },
   "outputs": [],
   "source": [
    "qs = _"
   ]
  },
  {
   "cell_type": "code",
   "execution_count": 242,
   "metadata": {
    "collapsed": false
   },
   "outputs": [
    {
     "data": {
      "text/latex": [
       "$$3$$"
      ],
      "text/plain": [
       "3"
      ]
     },
     "execution_count": 242,
     "metadata": {},
     "output_type": "execute_result"
    }
   ],
   "source": [
    "qs.subs(P,pa)"
   ]
  },
  {
   "cell_type": "code",
   "execution_count": 247,
   "metadata": {
    "collapsed": true
   },
   "outputs": [],
   "source": [
    "beneficio = P * q - ct"
   ]
  },
  {
   "cell_type": "code",
   "execution_count": 251,
   "metadata": {
    "collapsed": false
   },
   "outputs": [
    {
     "data": {
      "text/latex": [
       "$$- 5 q^{2} + q \\left(10 q + 3\\right) - 3 q - 125$$"
      ],
      "text/plain": [
       "     2                           \n",
       "- 5⋅q  + q⋅(10⋅q + 3) - 3⋅q - 125"
      ]
     },
     "execution_count": 251,
     "metadata": {},
     "output_type": "execute_result"
    }
   ],
   "source": [
    "beneficio.subs({P:cmg})"
   ]
  },
  {
   "cell_type": "code",
   "execution_count": 252,
   "metadata": {
    "collapsed": false
   },
   "outputs": [
    {
     "data": {
      "text/latex": [
       "$$5 q^{2} - 125$$"
      ],
      "text/plain": [
       "   2      \n",
       "5⋅q  - 125"
      ]
     },
     "execution_count": 252,
     "metadata": {},
     "output_type": "execute_result"
    }
   ],
   "source": [
    "_.simplify()"
   ]
  },
  {
   "cell_type": "code",
   "execution_count": 249,
   "metadata": {
    "collapsed": false
   },
   "outputs": [
    {
     "data": {
      "text/latex": [
       "$$-80$$"
      ],
      "text/plain": [
       "-80"
      ]
     },
     "execution_count": 249,
     "metadata": {},
     "output_type": "execute_result"
    }
   ],
   "source": [
    "_.subs(q, 3)"
   ]
  },
  {
   "cell_type": "code",
   "execution_count": 253,
   "metadata": {
    "collapsed": false,
    "scrolled": true
   },
   "outputs": [
    {
     "data": {
      "image/png": "[encoded data removed]",
      "text/plain": [
       "<matplotlib.figure.Figure at 0x10faaaac8>"
      ]
     },
     "metadata": {},
     "output_type": "display_data"
    },
    {
     "data": {
      "text/plain": [
       "<sympy.plotting.plot.Plot at 0x10faaac88>"
      ]
     },
     "execution_count": 253,
     "metadata": {},
     "output_type": "execute_result"
    }
   ],
   "source": [
    "plot(cmg, ct/q, (q, 1, 20))"
   ]
  },
  {
   "cell_type": "code",
   "execution_count": null,
   "metadata": {
    "collapsed": true
   },
   "outputs": [],
   "source": []
  },
  {
   "cell_type": "code",
   "execution_count": null,
   "metadata": {
    "collapsed": true
   },
   "outputs": [],
   "source": []
  },
  {
   "cell_type": "code",
   "execution_count": null,
   "metadata": {
    "collapsed": true
   },
   "outputs": [],
   "source": []
  },
  {
   "cell_type": "code",
   "execution_count": null,
   "metadata": {
    "collapsed": true
   },
   "outputs": [],
   "source": []
  },
  {
   "cell_type": "markdown",
   "metadata": {},
   "source": [
    "# 6\n",
    "Una empresa competitiva tiene una función de costes definida por la expresión:\n",
    "\n",
    "$CT= 2q^3- 8q^2+ 16q + 60$\n",
    "\n",
    "- a) Obtener la expresión de la curva inversa de oferta. Representar gráficamente.\n",
    "Solución: $P=6q^2 -16q+16$ ; q≥2\n",
    "\n",
    "- b) Calcular el precio correspondiente al mínimo de la explotación. ¿Cuál es el beneficio de la empresa para este precio?\n",
    "Solución: PME=8, B= -60"
   ]
  },
  {
   "cell_type": "markdown",
   "metadata": {},
   "source": [
    "# 7\n",
    "Conocemos las funciones de oferta y demanda de mercado de un bien Q:\n",
    "\n",
    "Función de Oferta: $Q^S=40+2P$\n",
    "\n",
    "Función de Demanda: $Q^D=580-4P$\n",
    "\n",
    "- a) Determinar y representar gráficamente la solución de equilibrio del mercado.\n",
    "- b) Interpretar e ilustrar gráficamente la situación del mercado si el precio vigente fuese P=100\n",
    "- c) Interpretar e ilustrar gráficamente la situación del mercado si el precio vigente fuese P=60"
   ]
  },
  {
   "cell_type": "markdown",
   "metadata": {},
   "source": [
    "# 8\n",
    "La oferta total de un mercado de libre concurrencia es $Q=\\frac{P}{2}-10$ y la demanda 2 total del mismo se representa por $Q = 120-\\frac{P}{3}$. \n",
    "\n",
    "Determinar la variación que se produciría en la cantidad intercambiada y en el precio si como consecuencia de perfeccionamientos técnicos la oferta aumentase para cada precio en ocho unidades de mercancía a la vez que, como resultado de campañas de publicidad, la demanda aumentase en 18 unidades del artículo, también para cada precio.\n",
    "\n",
    "Solución: $\\Delta q= 14, \\Delta P= 12$"
   ]
  },
  {
   "cell_type": "markdown",
   "metadata": {},
   "source": [
    "# 9\n",
    "Una empresa competitiva tiene una función de costes totales que viene determinada por la expresión: $CT= 3q2+ 5q + 50$.\n",
    "- a) Sabiendo que P=35, hallar la cantidad lanzada por la empresa y el beneficio.\n",
    "Solución: q=5; B=25\n",
    "- Hallar la curva de oferta de esa empresa. ¿Es una curva de oferta a corto o a largo plazo? ¿Qué elemento se lo indica?\n",
    "Solución: P-5/6 = q, P≥ 5\n",
    "- Si en ese mercado hay 6000 empresas idénticas, hallar la curva de oferta de mercado.\n",
    "Solución: 1000P-5000=Q\n",
    "- Si la demanda del mercado es Q=74500-500P, hallar el equilibrio del mercado y el beneficio de cada empresario.\n",
    "Solución: $P^C=53$, $Q^C=48000$; $q_i=8$; $B=\\pi=142$."
   ]
  },
  {
   "cell_type": "markdown",
   "metadata": {},
   "source": [
    "# 10\n",
    "\n",
    "Los empresarios de un mercado competitivo a largo plazo conocen la siguiente función de costes:\n",
    "\n",
    "- a) Si la función de demanda de mercado viene dada por Q=1000-100P, determinar el número de empresas que integrarán el mercado en el equilibrio.\n",
    "- Se produce un cambio en la demanda y la nueva curva de demanda de mercado es Q = 500 - 50P. Determinar si entran o salen empresas y en su caso, indicar el número.\n",
    "- Suponga que la función de demanda de mercado es la del apartado a) y suponga que la función de costes se modifica de manera que pasa a ser C=3q3-12q2+18q. Calcular el nuevo equilibrio de mercado y comparar respecto al apartado \n",
    "- a). ¿Qué hecho o hechos han podido causar este cambio en la función de costes?"
   ]
  },
  {
   "cell_type": "markdown",
   "metadata": {},
   "source": [
    "# 11\n",
    "\n",
    "Se sabe que la función de costes a largo de cada una de las n empresas que abastecen un mercado a largo plazo es $$C = 15q^2 -15/8q^3$$. La curva de demanda de mercado es Q= 100-2P. Con estos datos, se pide obtener el precio y la cantidad de equilibrio, el número de empresas que abastecerá el mercado a largo plazo y sus correspondientes beneficios obtenidos.\n",
    "\n",
    "\n",
    "Solución: P^C=30, QC=40, n=10, B=0."
   ]
  },
  {
   "cell_type": "markdown",
   "metadata": {},
   "source": [
    "# 12\n",
    "\n",
    "Suponga un mercado competitivo en el que operan empresas idénticas con una función de costes a largo plazo $C(q_j) =q_j^3 -20q^2_j + 200q_j$, donde $q_j$ es la producción de cada empresa. Si la curva de demanda de mercado es Q = 1000-P, siendo P el precio del bien Q:\n",
    "\n",
    "- a) Determinar el equilibrio a largo plazo de la industria.\n",
    "\n",
    "Solución: $q^C=10, p^C=100, Q^C=900, n=90$\n",
    "\n",
    "- b) Suponga que se incrementa la demanda de mercado, siendo la nueva curva Q = 1200- P, ¿cómo afecta este cambio al equilibrio a largo plazo? \n",
    "\n",
    "Solución: $q^C=10, p^C=100, Q^C=l.100, n=110$"
   ]
  },
  {
   "cell_type": "markdown",
   "metadata": {},
   "source": [
    "# 13\n",
    "En un mercado competitivo operan empresas idénticas con una función de costes a largo plazo $C(q_j)=q_j^3-6q_j + 72q_j$, donde $q_j$ es la producción de cada empresa.\n",
    "Si la curva de demanda de mercado es Q = 213-P, siendo P el precio del bien q: \n",
    "\n",
    "- a) Determinar el equilibrio a largo plazo de la industria.\n",
    "- b) Suponga que disminuye la demanda de mercado, siendo la nueva curva Q = 192- P, ¿cómo afecta este cambio al equilibrio de largo plazo? Ilustrar gráficamente."
   ]
  },
  {
   "cell_type": "markdown",
   "metadata": {},
   "source": [
    "# 14\n",
    "Suponga un mercado competitivo en el operan empresas idénticas con una función de costes a largo plazo $C(q_j)=2q_j^3-2Oq_j+100q_j$, donde $q_j$ es la producción de cada empresa. Si la curva de demanda de mercado es Q=200- P, siendo P el precio del bien q:\n",
    "\n",
    "- a) Determinar el equilibrio a largo plazo de la industria.\n",
    "\n",
    "Solución: q* = 5,P* = 50, Q* = 150,n = 30\n",
    "\n",
    "- b) El gobierno, interesado en potenciar la entrada de nuevas empresas en esta industria, se plantea dos medidas alternativas:\n",
    "    - i) Conceder una subvención a los productores de 20 u. m. por unidad vendida.\n",
    "\n",
    "Solución: $q^C=5, p^C=30, Q^C=170, n=34$\n",
    "- \n",
    "    - ii) Realizar una campaña publicitaria de forma que la nueva función de demanda, con certeza, sería Q = 220 -P.\n",
    "\n",
    "Solución: $q^C=5, p^C=50, Q^C=170, n=34$\n",
    "\n",
    "Analizar y comparar la eficacia de ambas medidas para conseguir el objetivo del gobierno."
   ]
  },
  {
   "cell_type": "markdown",
   "metadata": {},
   "source": [
    "# 15\n",
    "Una industria perfectamente competitiva tiene un gran número de entrantes potenciales. Cada empresa tiene la misma estructura de costes, de forma que el coste medio a largo plazo se minimiza a un nivel de producción de 20 unidades. El coste medio mínimo es de 10 $ por unidad. La demanda total del mercado viene dada por\n",
    "Q =1500-50P\n",
    "\n",
    "¿Cuál es el precio de equilibro a largo plazo?\n",
    "¿Y la producción total de la industria? \n",
    "¿Y el número de empresas? \n",
    "¿Y los beneficios de cada empresa? \n",
    "\n",
    "Solución: q^C=20, p^C=10, Q^C=1000, n=50, B_j=\\pi_j=0\n",
    "\n",
    "Suponga que la función de demanda de mercado se desplaza hasta $Q=2000-50P$. \n",
    "\n",
    "Si a corto plazo las empresas no pueden entrar ni salir, \n",
    "¿cuál será el precio de mercado con esta nueva curva de demanda? \n",
    "¿Cuáles serán los beneficios de la empresa típica? \n",
    "\n",
    "(La curva del coste total a corto plazo de cada empresa viene dada por $CT = 0.5q^2 - 10q + 200$)\n",
    "\n",
    "Solución: $p^C=15, Q^C=1.250, B_j=\\pi_j=112,5$\n",
    "\n",
    "A largo plazo, ¿cuál es el nuevo equilibrio de esta industria?\n",
    "\n",
    "Solución: $q^C=20, p^C=10, Q^C=1500, n=75$"
   ]
  },
  {
   "cell_type": "markdown",
   "metadata": {},
   "source": [
    "# 16\n",
    "\n",
    "El trigo se produce en condiciones de competencia perfecta. Los agricultores individuales tienen curvas de costes medios a largo plazo en forma de \"U\" que alcanzan un coste mínimo de 3 euros por tonelada cuando se produce 1 tonelada.\n",
    "\n",
    "- a) Si la curva de demanda del mercado de trigo viene dada por $Q=2600-200P$ donde Q representa las toneladas demandadas al año y P es el precio por tonelada, ¿cuál será el precio del trigo en el equilibrio a largo plazo, cuánto trigo se demandará y cuántas explotaciones cultivarán trigo?\n",
    "\n",
    "\n",
    "- b) Suponga que la demanda se desplaza hasta $Q=3200-200P$. Dada la nueva curva de demanda ¿cuál será el nuevo equilibrio a largo plazo? (calcular el precio de mercado, la cantidad producida de trigo y el nuevo número de explotaciones de equilibrio en esta nueva situación).\n",
    "\n",
    "Representar gráficamente."
   ]
  },
  {
   "cell_type": "markdown",
   "metadata": {},
   "source": [
    "# 17\n",
    "La demanda de autobuses diésel es $Q = 2500 - P/2$ y la oferta $Q=2P-250$.\n",
    "\n",
    "- a) Obtener el equilibrio, el excedente de los consumidores y de los productores, así como el bienestar social. Representar gráficamente.\n",
    "\n",
    "\n",
    "- b) Hallar cómo varían dichos excedentes, así como el bienestar social si el Gobierno establece un precio mínimo $p^{min}=1500$ y limitase la producción. Ilustrar gráficamente.\n",
    "\n",
    "\n",
    "- c) ¿Cambiaría la situación si el Estado absorbiese los excedentes de producción? ¿Cómo variarían los excedentes ahora? ¿Y el bienestar social?"
   ]
  },
  {
   "cell_type": "markdown",
   "metadata": {},
   "source": [
    "# 18\n",
    "En un mercado existen 100 empresas y 1000 consumidores. Las funciones de oferta y demanda individuales vienen dadas por las siguientes ecuaciones:\n",
    "\n",
    "$q^s =0,01P -1$\n",
    "\n",
    "$q^d =0,2 - P / 2000$\n",
    "\n",
    "\n",
    "Calcular la cantidad y precio de equilibrio en este mercado. Especificar cuánto demanda cada consumidor y cuánto oferta cada productor.\n",
    "\n",
    "\n",
    "Solución: $Q^C=100, p^C=200, q^S=l, q^d=0,1$\n",
    "\n",
    "\n",
    "Si el Gobierno establece un precio máximo pmax= 150, hallar el excedente de los consumidores y de los productores en esta situación, así como la pérdida en bienestar social que supondría. Ilustrar gráficamente.\n",
    "\n",
    "\n",
    "Solución: EC= 10.000, EP= 1.250; dBS=- 3.750"
   ]
  },
  {
   "cell_type": "markdown",
   "metadata": {},
   "source": [
    "# 19\n",
    "Sea un mercado de competencia perfecta a corto plazo en el que la función de demanda viene dada por $Q^D= 1450-200P$. En dicho mercado concurren 100 empresas idénticas cuyas funciones de costes variables medios tienen la expresión.\n",
    "$CVMe=q+1$\n",
    "\n",
    "Determinar la cuantía de los costes fijos de cada empresa sabiendo que para un precio de mercado P=25 cada una de ellas produce una cantidad de producto igual a su óptimo de la explotación.\n",
    "\n",
    "Solución: CF = 144\n",
    "\n",
    "Obtener el precio y la cantidad de equilibrio de mercado así como el excedente del productor y consumidor asociados.\n",
    "\n",
    "Solución: $p^C=6, qC=250, EC=156,25, EP=625$\n",
    "\n",
    "Hallar la pérdida de bienestar social y justificar gráficamente si el Estado estableciese un precio máximo de 5 u.m.\n",
    "Solución: $dBS=-31,25$."
   ]
  },
  {
   "cell_type": "markdown",
   "metadata": {},
   "source": [
    "# 20\n",
    "Suponga que la demanda de brócoli viene dada por $Q^D=1000-5P$, donde Q es la cantidad anual medida en cientos de fanegas y P es el precio en dólares por cien fanegas. La curva de oferta viene dada por $Q^s=4P-80$\n",
    "\n",
    "- ¿Cuál es la cantidad de equilibrio de fanegas producidas? ¿Cuál es el precio de equilibrio? ¿Cuál es el excedente del consumidor en este equilibrio? ¿Cuál es el excedente del productor en este equilibrio?\n",
    "\n",
    "Solución: p^C=120, Q^C=400, EC= 16.000, EP= 20.000\n",
    "\n",
    "- ¿Cuánto excedente del productor y del consumidor se perdería si Q=300 y el precio de equilibrio se mantuviera?\n",
    "\n",
    "Solución: dBS=2250 (pérdida de bienestar social).\n",
    "\n",
    "- Calcular como se reparte la pérdida de bienestar social derivada de la situación b) entre consumidores y productores.\n",
    "\n",
    "Solución: Los consumidores asumen 1000 y los productores 1250\n",
    "\n",
    "- Partiendo de la situación a), suponga que la demanda de brócoli se desplazara hacia fuera hasta $Q=1270-5P$, ¿cuál será el nuevo equilibrio de mercado? Calcular el excedente del consumidor y del productor.\n",
    "\n",
    "Solución: pC=150, QC=520, EC= 27.040, EP= 33.800\n",
    "\n",
    "- Bajo las condiciones del apartado anterior suponga que el gobierno impidiera que el precio del brócoli aumentara por encima del precio de equilibrio obtenido en a). ¿Hay pérdida de eficiencia? Si es así, calcular y justificar gráficamente cómo se distribuye esta pérdida entre demandantes y proveedores\n",
    "\n",
    "Solución: Q= 400, ABS=-3.240 (pérdida de eficiencia)"
   ]
  },
  {
   "cell_type": "markdown",
   "metadata": {},
   "source": [
    "# 21\n",
    "Suponga que hay mil empresas idénticas que producen diamantes y que la curva de coste total de cada empresa viene dada por: $CT= q2+10q+l$.\n",
    "\n",
    "- ¿Cuál será la curva de oferta a corto plazo de la empresa? ¿Cuál será la curva de oferta de la industria?\n",
    "\n",
    "\n",
    "- Si la demanda del mercado de diamantes es Q=8000-150P, ¿cuál será el equilibrio del mercado? Calcular el excedente de los consumidores y de los productores.\n",
    "\n",
    "\n",
    "- Supongamos que el Estado fija un precio mínimo pmin= 30 con el fin de limitar la producción de diamantes. Hallar la variación en el excedente de los consumidores y de los productores, así como la pérdida de bienestar social. Ilustrar gráficamente.\n",
    "\n",
    "\n",
    "- Justificar como cambiarían los excedentes anteriores y cuál sería la pérdida de bienestar social si el Estado absorbiese el exceso de oferta generado ante el establecimiento de dicho precio mínimo. Ilustrar gráficamente."
   ]
  },
  {
   "cell_type": "markdown",
   "metadata": {},
   "source": [
    "# 22\n",
    "La industria del rapé está compuesta por 100 empresas idénticas que compiten en un entorno de competencia perfecta. Los costes totales de cada una de estas empresas vienen dados por $CT= 0,5q2 + 10q + 5$ donde q es la producción diaria de cajas de rapé.\n",
    "\n",
    "- ¿Cuál es la curva de oferta a corto plazo de cada fabricante? ¿Cuál es la curva de oferta a corto plazo del conjunto del mercado?\n",
    "\n",
    "\n",
    "- Suponga que la demanda viene dada por Q= 1100-50P, donde el precio viene dado en dólares. ¿Cuál será el equilibrio en este mercado? ;Cuáles serán los beneficios totales a corto plazo de cada empresa?\n",
    "\n",
    "\n",
    "- Dibuje el equilibrio de mercado y calcule el excedente del productor y del consumidor\n",
    "\n",
    "\n",
    "- Demuestre que el excedente del productor es igual a los beneficios totales de la industria más los costes fijos a corto plazo de la industria.\n",
    "\n",
    "\n",
    " - Suponga que el gobierno impusiera un impuesto de 35 por caja de rapé. ¿Cómo afectaría este impuesto al equilibrio de mercado? Calcule la pérdida total del excedente del productor. ¿Cómo se repartiría esta pérdida entre compradores y vendedores? Demostrar que esta pérdida es igual al cambio en los beneficios totales a corto plazo en la industria."
   ]
  },
  {
   "cell_type": "markdown",
   "metadata": {},
   "source": [
    "# 23\n",
    "La empresa AVIA S.A. construye y vende helicópteros utilizando factor trabajo (L) y capital (K) en un mercado perfectamente competitivo en el corto plazo con la curva de costes totales siguiente: \n",
    "\n",
    "$CT(q)= 4q2 + 100$, donde q es la cantidad producida.\n",
    "\n",
    "Suponiendo que la demanda del mercado tiene la expresión $Q= 96-2P$ (siendo P el precio de los helicópteros):\n",
    "\n",
    "- ¿Cuál es la curva de oferta a corto plazo de cada fabricante?\n",
    "\n",
    "Solución: q = P/8, P > 0\n",
    "\n",
    "- Calcular el equilibrio competitivo si hubiera 16 empresas idénticas en el mercado.\n",
    "\n",
    "Solución: pC=24, QC=48.\n",
    "\n",
    "- Calcular cómo varían los excedentes de consumidores, productores y el bienestar social si el gobierno establece un impuesto de 2 unidades monetarias por unidad vendida del producto. Ilustrar gráficamente.\n",
    "\n",
    "Solución: AEC=-47; AEP=-47; AEC=92; ABS=-2.\n",
    "\n",
    "\n",
    "- Calcular cómo varían los excedentes de consumidores, productores y el bienestar social si, en lugar de un impuesto, lo que establece el gobierno es una subvención de 2 unidades monetarias por unidad vendida del producto. Ilustrar gráficamente.\n",
    "\n",
    "Solución: AEC=49; AEP=49; Gasto del Gobierno: 100; ABS=-2."
   ]
  },
  {
   "cell_type": "markdown",
   "metadata": {},
   "source": [
    "# 24\n",
    "Suponer un mercado competitivo con 100 empresas, costes de producción $C(qj)=q^2 +5q_j +5$ y demanda $q^D= 200-10P$\n",
    "\n",
    "- a) ¿Cuál es la curva de oferta a corto plazo de cada fabricante?\n",
    "\n",
    "\n",
    "- b) Obtener el equilibrio y el beneficio de las empresas.\n",
    "\n",
    "\n",
    "- c) El gobierno concede una subvención por unidad producida de s=2. ¿cuál es el impacto sobre el bienestar social? Ilustrar gráficamente"
   ]
  },
  {
   "cell_type": "markdown",
   "metadata": {},
   "source": [
    "# 25\n",
    "En un mercado competitivo operan 10 empresas idénticas con una curva costes a 2\n",
    "corto plazo C(q_j)=q_J^2/4 + 64 donde qjes la producción de cada empresa. La \n",
    "demanda de mercado para el producto q es Q=1000- 20P, siendo P el precio del bien q:\n",
    "a) Obtenga la curva de oferta a corto plazo de cada empresa y la curva de oferta de la industria competitiva. Determinar el equilibrio de la industria competitiva a corto plazo.\n",
    "b) Comparar los efectos sobre el equilibrio de las siguientes medidas establecidas por el gobierno:\n",
    "i. Un impuesto unitario de t=2 sobre la producción.\n",
    "ii. Un impuesto del 10% sobre los beneficios.\n",
    "c) Calcular el bienestar social bajo cada situación. Ilustrar gráficamente.\n",
    "Sea un mercado con demanda q^D = 350 - P/2\n",
    " y oferta q^S = P-100 / 2\n",
    "Hallar el precio y la cantidad de equilibrio ¿cuál sería el excedente de los consumidores y el excedente de los productores? Ilustrar gráficamente Solución: QC=150, pC=400, EC=22.500, EP= 22.500\n",
    "Suponemos que desaparecen los obstáculos al comercio exterior y este mercado se abre al comercio internacional, siendo el precio del resto del mundo PM=150.\n",
    "En estas condiciones, ¿cuál sería la cantidad de equilibrio? ¿cuál sería el número de unidades importadas? ¿Cómo se modificaría el excedente de consumidores y productores? ¿Aumentaría el bienestar social? ¿En que cuantía?\n",
    "Solución: QC=275, Qnacional=25, M=250, AEC=53.125, AEP=-21.875, ABS= 31.250.\n",
    "Si el Gobierno establece un Arancel de 50 u.m por unidad importada.\n",
    "i.\n",
    "Hallar el nuevo equilibrio.\n",
    "Solución: QC=250, Qnacional=50, M=200.\n",
    "ii. Hallar la variación en el excedente de los consumidores, en excedente de los productores, la recaudación del Estado y la pérdida de bienestar social.\n",
    "Señalar gráficamente cómo la variación del excedente del consumidor se transfiere a productores, Estado y pérdida de eficiencia.\n",
    "Solución: AEC=-13.125, AEP=l.875, EG=10.000, ABS=-l.250 (pérdida de eficiencia)"
   ]
  },
  {
   "cell_type": "markdown",
   "metadata": {},
   "source": [
    "# 27\n",
    "El mercado de las almendras es competitivo. Conocemos las funciones de demanda qI)=100-P y oferta qS=4P.\n",
    "Hallar el precio y la cantidad de equilibrio /.cuál sería el excedente de los consumidores y el excedente de los productores? Ilustrar gráficamente.\n",
    "Si el mercado se abre al comercio internacional y sabemos que el precio del mercado mundial es PM=50. ¿Cuál será la nueva producción de equilibrio? ¿Cuánto se exportará? hallar las repercusiones sobre el excedente de los consumidores y de los productores y representar gráficamente. ¿Mejora el bienestar social por la apertura al comercio internacional? ¿En cuánto? Justificar gráficamente señalando las diferentes áreas."
   ]
  },
  {
   "cell_type": "markdown",
   "metadata": {},
   "source": [
    "# 28\n",
    "La demanda nacional radios portátiles viene dada por $Q^D= 5000-100P$, donde el precio P se mide en dólares y la cantidad Q se mide en miles de radios al año. La curva de oferta nacional anual de radios viene dada por $Q^S=150P$.\n",
    "\n",
    "- ¿Cuál es el equilibrio del mercado nacional de radios portátiles? \n",
    "\n",
    "Solución: $p^C=20, Q^C=3.000$\n",
    "\n",
    "- Suponga que las radios portátiles se pueden importar a un precio mundial de 10 dólares por radio. Si no hay obstáculos en el comercio ¿cuál sería el nuevo equilibrio del mercado? ¿Cuántas radios portátiles se pueden importar?\n",
    "\n",
    "Solución: $p^C=10, Q^C=4.000, Q^S_nacional=l.500, M=2500.$\n",
    "\n",
    "- Si los productores nacionales de radios portátiles consiguieran que se impusiera un arancel de 55, ¿cómo cambiaría el equilibrio de mercado? ¿Cuánto se recaudaría en ingresos arancelarios?¿Qué parte del excedente del consumidor se transferiría a los productores nacionales? ¿cuál sería la pérdida de eficiencia?\n",
    "\n",
    "Solución: \n",
    "- $p^C=15$\n",
    "- $Q^C=3.500$\n",
    "- $Q^S_nacional=2.250$, \n",
    "- M=1.250, \n",
    "- recaudación 6250 miles de \\$, \n",
    "- ΔEC=-18.750, \n",
    "- ΔEP=9.375, \n",
    "- ΔEG= 6.250; \n",
    "- $\\Delta BS= -3.125$ (pérdida de eficiencia)."
   ]
  },
  {
   "cell_type": "code",
   "execution_count": null,
   "metadata": {
    "collapsed": true
   },
   "outputs": [],
   "source": [
    "\n"
   ]
  },
  {
   "cell_type": "markdown",
   "metadata": {},
   "source": [
    "# 29\n",
    "\n",
    "Las curvas de oferta y demanda nacionales de toallas de un determinado producto son las siguientes:\n",
    "\n",
    "$Q^D= P-50$\n",
    "\n",
    "$Q^S = 200- \\frac{P}{2} $\n",
    "\n",
    "donde __P__ es el precio en euros y __Q__ es el número de unidades de ese producto.\n",
    "\n",
    "- a) Hasta la fecha el comercio con el exterior es libre siendo el precio mundial de 60 euros la unidad. ¿Aumentaría el bienestar social con respecto a una situación de economía cerrada al exterior? ¿En qué cuantía? Justificar gráficamente.\n",
    "\n",
    "\n",
    "- b) Se está considerando la posibilidad de establecer un arancel de 10 euros ¿Cómo cambiaría el equilibrio de mercado? ¿Cuánto se recaudaría en ingresos arancelarios?\n",
    "\n",
    "\n",
    "- c) ¿Cuál sería la pérdida de eficiencia?"
   ]
  },
  {
   "cell_type": "code",
   "execution_count": 101,
   "metadata": {
    "collapsed": true
   },
   "outputs": [],
   "source": [
    "Qs = P - 50\n",
    "Qd = 200 - P/2\n",
    "p_a = 60"
   ]
  },
  {
   "cell_type": "markdown",
   "metadata": {},
   "source": [
    "## EC. CERRADA:"
   ]
  },
  {
   "cell_type": "markdown",
   "metadata": {},
   "source": [
    "###  PRECIO"
   ]
  },
  {
   "cell_type": "code",
   "execution_count": 102,
   "metadata": {
    "collapsed": false
   },
   "outputs": [
    {
     "data": {
      "text/latex": [
       "$$\\frac{500}{3}$$"
      ],
      "text/plain": [
       "500/3"
      ]
     },
     "execution_count": 102,
     "metadata": {},
     "output_type": "execute_result"
    }
   ],
   "source": [
    "solve(Qs - Qd, P)[0]"
   ]
  },
  {
   "cell_type": "code",
   "execution_count": 103,
   "metadata": {
    "collapsed": true
   },
   "outputs": [],
   "source": [
    "p_ec_cerrada = _"
   ]
  },
  {
   "cell_type": "markdown",
   "metadata": {},
   "source": [
    "### CANTIDAD"
   ]
  },
  {
   "cell_type": "code",
   "execution_count": 104,
   "metadata": {
    "collapsed": false
   },
   "outputs": [
    {
     "data": {
      "text/latex": [
       "$$\\frac{350}{3}$$"
      ],
      "text/plain": [
       "350/3"
      ]
     },
     "execution_count": 104,
     "metadata": {},
     "output_type": "execute_result"
    }
   ],
   "source": [
    "Qs.subs(P, p_ec_cerrada)"
   ]
  },
  {
   "cell_type": "code",
   "execution_count": 105,
   "metadata": {
    "collapsed": true
   },
   "outputs": [],
   "source": [
    "Q_ec_cerrada = _"
   ]
  },
  {
   "cell_type": "code",
   "execution_count": 106,
   "metadata": {
    "collapsed": false
   },
   "outputs": [
    {
     "data": {
      "text/latex": [
       "$$\\left ( 166.666666666667, \\quad 116.666666666667\\right )$$"
      ],
      "text/plain": [
       "(166.666666666667, 116.666666666667)"
      ]
     },
     "execution_count": 106,
     "metadata": {},
     "output_type": "execute_result"
    }
   ],
   "source": [
    "p_ec_cerrada.evalf(), Q_ec_cerrada.evalf()"
   ]
  },
  {
   "cell_type": "markdown",
   "metadata": {},
   "source": [
    "## FUNCIÓN INVERSA\n",
    "### DE LA OFERTA"
   ]
  },
  {
   "cell_type": "code",
   "execution_count": 107,
   "metadata": {
    "collapsed": false
   },
   "outputs": [
    {
     "data": {
      "text/latex": [
       "$$- 2 Q + 400$$"
      ],
      "text/plain": [
       "-2⋅Q + 400"
      ]
     },
     "execution_count": 107,
     "metadata": {},
     "output_type": "execute_result"
    }
   ],
   "source": [
    "solve(Qd - Q, P)[0]"
   ]
  },
  {
   "cell_type": "code",
   "execution_count": 108,
   "metadata": {
    "collapsed": true
   },
   "outputs": [],
   "source": [
    "Ps = _"
   ]
  },
  {
   "cell_type": "markdown",
   "metadata": {},
   "source": [
    "### DE LA DEMANDA:"
   ]
  },
  {
   "cell_type": "code",
   "execution_count": 109,
   "metadata": {
    "collapsed": false
   },
   "outputs": [
    {
     "data": {
      "text/latex": [
       "$$Q + 50$$"
      ],
      "text/plain": [
       "Q + 50"
      ]
     },
     "execution_count": 109,
     "metadata": {},
     "output_type": "execute_result"
    }
   ],
   "source": [
    "solve(Qs - Q, P)[0]"
   ]
  },
  {
   "cell_type": "code",
   "execution_count": 110,
   "metadata": {
    "collapsed": true
   },
   "outputs": [],
   "source": [
    "Pd =_"
   ]
  },
  {
   "cell_type": "markdown",
   "metadata": {},
   "source": [
    "## EC. ABIERTA\n",
    "### $Q^S$ ="
   ]
  },
  {
   "cell_type": "code",
   "execution_count": 111,
   "metadata": {
    "collapsed": false
   },
   "outputs": [
    {
     "data": {
      "text/latex": [
       "$$10$$"
      ],
      "text/plain": [
       "10"
      ]
     },
     "execution_count": 111,
     "metadata": {},
     "output_type": "execute_result"
    }
   ],
   "source": [
    "p_ec_abierta = 60\n",
    "Qs.subs(P, p_ec_abierta)"
   ]
  },
  {
   "cell_type": "code",
   "execution_count": 112,
   "metadata": {
    "collapsed": true
   },
   "outputs": [],
   "source": [
    "Qs_ec_abierta = _"
   ]
  },
  {
   "cell_type": "markdown",
   "metadata": {},
   "source": [
    "### $Q^D =$"
   ]
  },
  {
   "cell_type": "code",
   "execution_count": 113,
   "metadata": {
    "collapsed": false
   },
   "outputs": [
    {
     "data": {
      "text/latex": [
       "$$170$$"
      ],
      "text/plain": [
       "170"
      ]
     },
     "execution_count": 113,
     "metadata": {},
     "output_type": "execute_result"
    }
   ],
   "source": [
    "Qd.subs(P, p_ec_abierta)"
   ]
  },
  {
   "cell_type": "code",
   "execution_count": 114,
   "metadata": {
    "collapsed": true
   },
   "outputs": [],
   "source": [
    "Qd_ec_abierta = _"
   ]
  },
  {
   "cell_type": "markdown",
   "metadata": {},
   "source": [
    "### EXCEDENTE DEL PRODCUTOR"
   ]
  },
  {
   "cell_type": "code",
   "execution_count": 115,
   "metadata": {
    "collapsed": false
   },
   "outputs": [
    {
     "data": {
      "text/latex": [
       "$$- \\frac{490000}{9}$$"
      ],
      "text/plain": [
       "-490000/9"
      ]
     },
     "execution_count": 115,
     "metadata": {},
     "output_type": "execute_result"
    }
   ],
   "source": [
    "np.subtract(Qs.integrate(P).subs(P, p_ec_cerrada),\n",
    "            Qs.integrate(P).subs(P, Ps.subs(Q,0)))"
   ]
  },
  {
   "cell_type": "markdown",
   "metadata": {},
   "source": [
    "### EXCEDENTE DEL PRODUCTOR"
   ]
  },
  {
   "cell_type": "code",
   "execution_count": 116,
   "metadata": {
    "collapsed": false
   },
   "outputs": [
    {
     "data": {
      "text/latex": [
       "$$- \\frac{153125}{9}$$"
      ],
      "text/plain": [
       "-153125/9"
      ]
     },
     "execution_count": 116,
     "metadata": {},
     "output_type": "execute_result"
    }
   ],
   "source": [
    "np.subtract(Qd.integrate(P).subs(P, Pd.subs(Q,0)),\n",
    "            Qd.integrate(P).subs(P, p_ec_cerrada))"
   ]
  },
  {
   "cell_type": "code",
   "execution_count": 117,
   "metadata": {
    "collapsed": false
   },
   "outputs": [
    {
     "data": {
      "text/latex": [
       "$$\\frac{850}{3}$$"
      ],
      "text/plain": [
       "850/3"
      ]
     },
     "execution_count": 117,
     "metadata": {},
     "output_type": "execute_result"
    }
   ],
   "source": [
    "_89 + _91"
   ]
  },
  {
   "cell_type": "code",
   "execution_count": 118,
   "metadata": {
    "collapsed": false
   },
   "outputs": [
    {
     "data": {
      "text/latex": [
       "$$283.333333333333$$"
      ],
      "text/plain": [
       "283.333333333333"
      ]
     },
     "execution_count": 118,
     "metadata": {},
     "output_type": "execute_result"
    }
   ],
   "source": [
    "_.evalf()"
   ]
  },
  {
   "cell_type": "code",
   "execution_count": 119,
   "metadata": {
    "collapsed": false
   },
   "outputs": [
    {
     "data": {
      "text/latex": [
       "$$-1725$$"
      ],
      "text/plain": [
       "-1725"
      ]
     },
     "execution_count": 119,
     "metadata": {},
     "output_type": "execute_result"
    }
   ],
   "source": [
    "# EXCEDENTE DEL CONSUMIDOR EN ECONOMIA ABIERTA:\n",
    "\n",
    "np.subtract(Qd.integrate(P).subs(P, Pd.subs(Q,0)),\n",
    "            Qd.integrate(P).subs(P, p_ec_abierta))"
   ]
  },
  {
   "cell_type": "code",
   "execution_count": 134,
   "metadata": {
    "collapsed": false,
    "scrolled": true
   },
   "outputs": [
    {
     "data": {
      "image/png": "[encoded data removed]",
      "text/plain": [
       "<matplotlib.figure.Figure at 0x10d321eb8>"
      ]
     },
     "metadata": {},
     "output_type": "display_data"
    },
    {
     "data": {
      "text/plain": [
       "<sympy.plotting.plot.Plot at 0x10ddd00b8>"
      ]
     },
     "execution_count": 134,
     "metadata": {},
     "output_type": "execute_result"
    }
   ],
   "source": [
    "plot(Ps, Pd, p_ec_abierta, p_ec_cerrada, (Q, 0, 200))\n"
   ]
  },
  {
   "cell_type": "code",
   "execution_count": 131,
   "metadata": {
    "collapsed": false
   },
   "outputs": [
    {
     "data": {
      "text/latex": [
       "$$Q$$"
      ],
      "text/plain": [
       "Q"
      ]
     },
     "execution_count": 131,
     "metadata": {},
     "output_type": "execute_result"
    }
   ],
   "source": [
    "Q"
   ]
  },
  {
   "cell_type": "code",
   "execution_count": 124,
   "metadata": {
    "collapsed": false
   },
   "outputs": [
    {
     "data": {
      "text/latex": [
       "$$-850$$"
      ],
      "text/plain": [
       "-850"
      ]
     },
     "execution_count": 124,
     "metadata": {},
     "output_type": "execute_result"
    }
   ],
   "source": [
    "(Pd.subs(Q,0) - p_ec_abierta) * Qd_ec_abierta / 2"
   ]
  },
  {
   "cell_type": "code",
   "execution_count": 121,
   "metadata": {
    "collapsed": false
   },
   "outputs": [
    {
     "data": {
      "text/latex": [
       "$$170$$"
      ],
      "text/plain": [
       "170"
      ]
     },
     "execution_count": 121,
     "metadata": {},
     "output_type": "execute_result"
    }
   ],
   "source": [
    "Qd_ec_abierta"
   ]
  },
  {
   "cell_type": "code",
   "execution_count": 122,
   "metadata": {
    "collapsed": false
   },
   "outputs": [
    {
     "data": {
      "text/latex": [
       "$$-1700$$"
      ],
      "text/plain": [
       "-1700"
      ]
     },
     "execution_count": 122,
     "metadata": {},
     "output_type": "execute_result"
    }
   ],
   "source": [
    "(p_ec_abierta - Ps.subs(Q, 0)) * Qs_ec_abierta / 2"
   ]
  },
  {
   "cell_type": "code",
   "execution_count": 123,
   "metadata": {
    "collapsed": false
   },
   "outputs": [
    {
     "data": {
      "text/latex": [
       "$$2550$$"
      ],
      "text/plain": [
       "2550"
      ]
     },
     "execution_count": 123,
     "metadata": {},
     "output_type": "execute_result"
    }
   ],
   "source": [
    "BS_abierta = 1700 + 850\n",
    "BS_abierta"
   ]
  },
  {
   "cell_type": "code",
   "execution_count": 124,
   "metadata": {
    "collapsed": false
   },
   "outputs": [],
   "source": [
    "BS_cerrada = (Pd.subs(Q,0) - p_ec_cerrada) * Q_ec_cerrada / 2"
   ]
  },
  {
   "cell_type": "code",
   "execution_count": 125,
   "metadata": {
    "collapsed": false
   },
   "outputs": [],
   "source": [
    "BS_cerrada += (p_ec_cerrada - Ps.subs(Q, 0)) * Q_ec_cerrada / 2"
   ]
  },
  {
   "cell_type": "code",
   "execution_count": 126,
   "metadata": {
    "collapsed": false
   },
   "outputs": [
    {
     "data": {
      "text/latex": [
       "$$- \\frac{61250}{3}$$"
      ],
      "text/plain": [
       "-61250/3"
      ]
     },
     "execution_count": 126,
     "metadata": {},
     "output_type": "execute_result"
    }
   ],
   "source": [
    "BS_cerrada"
   ]
  },
  {
   "cell_type": "code",
   "execution_count": 127,
   "metadata": {
    "collapsed": false
   },
   "outputs": [
    {
     "data": {
      "text/latex": [
       "$$-20416.6666666667$$"
      ],
      "text/plain": [
       "-20416.6666666667"
      ]
     },
     "execution_count": 127,
     "metadata": {},
     "output_type": "execute_result"
    }
   ],
   "source": [
    "_.evalf()"
   ]
  },
  {
   "cell_type": "code",
   "execution_count": null,
   "metadata": {
    "collapsed": true
   },
   "outputs": [],
   "source": []
  },
  {
   "cell_type": "markdown",
   "metadata": {},
   "source": [
    "# 30\n",
    "Conocemos las curvas de oferta y demanda de harina de un determinado país: \n",
    "\n",
    "$QD=400-2P y Qs=6p. $\n",
    "\n",
    "Sabemos que el mercado está en equilibrio a corto plazo.\n",
    "- Hallar el precio del mercado interior y la cantidad de harina intercambiada en el equilibrio.\n",
    "\n",
    "Solución: $pC=50, QC=300$\n",
    "\n",
    "- El mercado tiene la oportunidad de abrirse al comercio internacional y sabemos que el precio del mercado mundial es $p^M=80$, ¿cambiaría el equilibrio? ¿mejoraría el bienestar social? Ilustrar gráficamente.\n",
    "\n",
    "Solución: $Q= 480, Q^{nacional}=240, X= 240, \\Delta{BS}= 3.600.$\n",
    "\n",
    "- Hallar las repercusiones de la apertura al extranjero sobre el excedente de los consumidores y de los productores. Ilustrar gráficamente.\n",
    "\n",
    "Solución: $\\Delta{EC}= -8.100, \\Delta{EP}= 11.700.$"
   ]
  },
  {
   "cell_type": "markdown",
   "metadata": {},
   "source": [
    "# CUESTIONES PARTE I: TEORíA DE LOS MERCADOS COMPETITIVOS"
   ]
  },
  {
   "cell_type": "markdown",
   "metadata": {},
   "source": [
    "1. La demanda a la que se enfrenta una empresa no es más que la curva de demanda de mercado y por tanto, es independiente del tipo de competencia al que la empresa se enfrente. ¿Es correcta esta afirmación? Explicar la respuesta."
   ]
  },
  {
   "cell_type": "markdown",
   "metadata": {},
   "source": [
    "2. Una empresa competitiva que produce tal que P=C' está maximizando beneficios y siempre debe seguir en el mercado. ¿Es correcta esta afirmación? Explicar la respuesta."
   ]
  },
  {
   "cell_type": "markdown",
   "metadata": {},
   "source": [
    "3. Una empresa competitiva que está produciendo en un nivel de producción tal que p>c' deberá aumentar el nivel de producción. ¿Es correcta esta afirmación? Explique su respuesta."
   ]
  },
  {
   "cell_type": "markdown",
   "metadata": {},
   "source": [
    "4. Si en un mercado competitivo todas las empresas están maximizando beneficios entonces la industria está en equilibrio."
   ]
  },
  {
   "cell_type": "markdown",
   "metadata": {},
   "source": [
    "5. Sea un mercado competitivo a corto plazo en equilibrio. Si el coste fijo de las empresas aumenta, entonces el equilibrio de mercado no variará pero sí disminuirá el excedente de los productores."
   ]
  },
  {
   "cell_type": "markdown",
   "metadata": {},
   "source": [
    "6. Sea un mercado competitivo a corto plazo en equilibrio. ¿Afectaría un impuesto sobre los beneficios totales a la cantidad de producción que maximiza los beneficios? ¿Y si se impone un impuesto por unidad producida?"
   ]
  },
  {
   "cell_type": "markdown",
   "metadata": {},
   "source": [
    "7. En condiciones de equilibrio competitivo a largo plazo, todas las empresas de la industria obtienen un beneficio económico nulo. ¿Por qué es cierta esta\n",
    "afirmación?"
   ]
  },
  {
   "cell_type": "markdown",
   "metadata": {},
   "source": [
    "8. ¿Por qué entran empresas en una industria cuando saben que los beneficios económicos a largo plazo serán nulos?"
   ]
  },
  {
   "cell_type": "markdown",
   "metadata": {},
   "source": [
    "9. A principios del siglo XX había muchos fabricantes de coches (un tipo de mercado más próximo a la competencia). Sin embargo, cada vez el número de fabricantes es menor a pesar de que la demanda de coches ha sido creciente. ;Por qué ha cambiado el tipo de mercado en la fabricación de automóviles?"
   ]
  },
  {
   "cell_type": "markdown",
   "metadata": {},
   "source": [
    "10. Sea un mercado competitivo a largo plazo. Como todas las empresas obtienen beneficios nulos, una bajada del precio impuesta desde el exterior implicaría el cierre de todas las empresas de ese mercado. ;Es correcta esta deducción? Explicar la respuesta."
   ]
  },
  {
   "cell_type": "markdown",
   "metadata": {},
   "source": [
    "11. Si una empresa competitiva está en equilibrio, entonces el mercado competitivo también está en equilibrio. ;Es correcta esta afirmación? Explicar la respuesta."
   ]
  },
  {
   "cell_type": "markdown",
   "metadata": {},
   "source": [
    "12. Sea un mercado competitivo a largo plazo en equilibrio. Si se introduce un impuesto sobre las ventas de t unidades por unidad, ;habrá entrada o salida de empresas? Ilustrar la respuesta gráficamente."
   ]
  },
  {
   "cell_type": "markdown",
   "metadata": {},
   "source": [
    "13. Una disminución de la demanda en el equilibrio competitivo a largo plazo provoca una disminución en el nivel de output total porque las empresas que operan en el mercado producen menos cantidad. ;Es correcta esta afirmación? Explicar la respuesta."
   ]
  },
  {
   "cell_type": "markdown",
   "metadata": {},
   "source": [
    "14. Suponga que el gobierno quiere limitar las importaciones de un determinado bien. Compare la pérdida de eficiencia que se produce al imponer un arancel. ;Y si se impone un contingente? Ilustrar la respuesta."
   ]
  },
  {
   "cell_type": "markdown",
   "metadata": {},
   "source": [
    "15. Suponga que un mercado competitivo está en el equilibrio de largo plazo.\n",
    "Discutir e ilustrar gráficamente qué ocurre en los siguientes supuestos:\n",
    "a)\n",
    "Hay una campaña publicitaria que expande la demanda de mercado.\n",
    "b) Se produce una innovación tecnológica que reduce costes y, además, hace disminuir la dimensión óptima.\n",
    "c) Se produce una innovación tecnológica que reduce costes y, además, hace aumentar la dimensión óptima."
   ]
  },
  {
   "cell_type": "markdown",
   "metadata": {},
   "source": [
    "16. Un gobierno considera que el precio del metro cuadrado de la vivienda es éticamente inaceptable. Por ello, decide regular el precio de venta en este mercado, que es competitivo, obligando a vender la vivienda a un precio inferior al de equilibrio. El gobierno considera que con esta intervención, el Bienestar Social aumentará. Las razones que esgrime es que, por un lado, todos los individuos que están en condiciones de pagar el precio fijado por el gobierno, pero que no podían pagar el precio de mercado antes de la intervención accederán a una vivienda en propiedad. Por otra parte, esta\n",
    "medida no afecta a los potenciales compradores que ya habían decidido adquirir su vivienda antes de la intervención del gobierno, puesto que si estaban dispuestos a pagar el precio de mercado también podrán soportar el precio fijado por el gobierno. LEs correcto este razonamiento? LAumentará tras la intervención el bienestar social? Justificar la respuesta e ilustrarla gráficamente."
   ]
  },
  {
   "cell_type": "markdown",
   "metadata": {},
   "source": [
    "17. Para mantener la producción nacional de arroz las autoridades japonesas están indecisas entre conceder una subvención por unidad producida o implantar un arancel a las importaciones de arroz. ¿Qué medida preferirá el gobierno? ¿Qué medida preferirán los agricultores japoneses?"
   ]
  },
  {
   "cell_type": "markdown",
   "metadata": {},
   "source": [
    "18. Para mantener los precios de los productos agrícolas producidos en la UE, los políticos manejan dos medidas: imponer cuotas a la producción o dando a los productores incentivos para abandono de tierras. ¿Qué medida preferirá el gobierno? ¿Qué medida preferirán los agricultores europeos?"
   ]
  },
  {
   "cell_type": "code",
   "execution_count": null,
   "metadata": {
    "collapsed": true
   },
   "outputs": [],
   "source": []
  }
 ],
 "metadata": {
  "kernelspec": {
   "display_name": "Python 3",
   "language": "python",
   "name": "python3"
  },
  "language_info": {
   "codemirror_mode": {
    "name": "ipython",
    "version": 3
   },
   "file_extension": ".py",
   "mimetype": "text/x-python",
   "name": "python",
   "nbconvert_exporter": "python",
   "pygments_lexer": "ipython3",
   "version": "3.4.3"
  }
 },
 "nbformat": 4,
 "nbformat_minor": 0
}
