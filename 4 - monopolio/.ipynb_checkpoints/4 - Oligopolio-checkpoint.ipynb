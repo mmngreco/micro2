{
 "cells": [
  {
   "cell_type": "code",
   "execution_count": 19,
   "metadata": {
    "collapsed": false
   },
   "outputs": [],
   "source": [
    "from sympy import *\n",
    "import numpy as np\n",
    "import matplotlib.pyplot as plt\n",
    "import tabulate as tb"
   ]
  },
  {
   "cell_type": "code",
   "execution_count": 20,
   "metadata": {
    "collapsed": false
   },
   "outputs": [
    {
     "name": "stdout",
     "output_type": "stream",
     "text": [
      "IPython console for SymPy 0.7.6 (Python 3.4.3-64-bit) (ground types: python)\n",
      "\n",
      "These commands were executed:\n",
      ">>> from __future__ import division\n",
      ">>> from sympy import *\n",
      ">>> x, y, z, t = symbols('x y z t')\n",
      ">>> k, m, n = symbols('k m n', integer=True)\n",
      ">>> f, g, h = symbols('f g h', cls=Function)\n",
      ">>> init_printing()\n",
      "\n",
      "Documentation can be found at http://www.sympy.org\n"
     ]
    }
   ],
   "source": [
    "init_session()"
   ]
  },
  {
   "cell_type": "code",
   "execution_count": 21,
   "metadata": {
    "collapsed": true
   },
   "outputs": [],
   "source": [
    "%matplotlib inline"
   ]
  },
  {
   "cell_type": "code",
   "execution_count": 22,
   "metadata": {
    "collapsed": true
   },
   "outputs": [],
   "source": [
    "q, Q, P = symbols('q Q P')"
   ]
  },
  {
   "cell_type": "code",
   "execution_count": 23,
   "metadata": {
    "collapsed": false
   },
   "outputs": [],
   "source": [
    "init_printing(use_latex='mathjax')"
   ]
  },
  {
   "cell_type": "code",
   "execution_count": 2,
   "metadata": {
    "collapsed": false
   },
   "outputs": [
    {
     "name": "stderr",
     "output_type": "stream",
     "text": [
      ":0: FutureWarning: IPython widgets are experimental and may change in the future.\n"
     ]
    }
   ],
   "source": [
    "from IPython.display import YouTubeVideo, IFrame, Image, ScribdDocument, HTML\n",
    "from IPython.html.widgets import interact, interactive, fixed\n",
    "from IPython.html import widgets"
   ]
  },
  {
   "cell_type": "code",
   "execution_count": 206,
   "metadata": {
    "collapsed": false,
    "scrolled": false
   },
   "outputs": [
    {
     "data": {
      "text/html": [
       "\n",
       "        <iframe\n",
       "            width=\"500\"\n",
       "            height=\"400\"\n",
       "            src=\"https://www.scribd.com/embeds/265141884/content?start_page=1\"\n",
       "            frameborder=\"0\"\n",
       "            allowfullscreen\n",
       "        ></iframe>\n",
       "        "
      ],
      "text/plain": [
       "<IPython.lib.display.ScribdDocument at 0x111315a58>"
      ]
     },
     "metadata": {},
     "output_type": "display_data"
    }
   ],
   "source": [
    "libs = {'micro_varian': '94620201',\n",
    "        'micro_ejercicios_varian': '262407058',\n",
    "        'micro_schum': '265141884'}\n",
    "\n",
    "def read_libs(x):\n",
    "    return display(ScribdDocument(x, width=500, height=400, start_page=1))\n",
    "\n",
    "interact(read_libs, x=libs)"
   ]
  },
  {
   "cell_type": "code",
   "execution_count": 205,
   "metadata": {
    "collapsed": false
   },
   "outputs": [
    {
     "data": {
      "text/html": [
       "\n",
       "        <iframe\n",
       "            width=\"400\"\n",
       "            height=\"300\"\n",
       "            src=\"https://www.youtube.com/embed/ERb3ma2rSRU\"\n",
       "            frameborder=\"0\"\n",
       "            allowfullscreen\n",
       "        ></iframe>\n",
       "        "
      ],
      "text/plain": [
       "<IPython.lib.display.YouTubeVideo at 0x1112d6128>"
      ]
     },
     "metadata": {},
     "output_type": "display_data"
    },
    {
     "data": {
      "text/plain": [
       "<function __main__.watch_videos>"
      ]
     },
     "execution_count": 205,
     "metadata": {},
     "output_type": "execute_result"
    }
   ],
   "source": [
    "videos = {'Cournot':'54UfKZS-4zg',\n",
    "          'Caza de Ciervo': '6j4LaiRWGVM', \n",
    "          'Stackeberg': '54UfKZS-4zg',\n",
    "          'Nash': 'ERb3ma2rSRU'}\n",
    "\n",
    "def watch_videos(x):\n",
    "    return display(YouTubeVideo(x))\n",
    "interact(watch_videos, x=videos)"
   ]
  },
  {
   "cell_type": "code",
   "execution_count": 204,
   "metadata": {
    "collapsed": false,
    "scrolled": false
   },
   "outputs": [
    {
     "data": {
      "text/html": [
       "<!DOCTYPE html PUBLIC \"-//W3C//DTD XHTML 1.0 Transitional//EN\" \"http://www.w3.org/TR/xhtml1/DTD/xhtml1-transitional.dtd\">\n",
       "<html xmlns=\"http://www.w3.org/1999/xhtml\" itemscope=\"\" itemtype=\"http://schema.org/WebPage\">\n",
       "<head>\n",
       "<meta http-equiv=\"X-UA-Compatible\" content=\"chrome=1\" />\n",
       "<script type=\"text/javascript\">/* Copyright 2008 Google. */ (function() { var b=window,e=\"chrome\",g=\"tick\",h=\"wtsrt_\",l=\"tbsd_\",m=\"tbnd_\",n=\"start\",p=\"_wtsrt\",q=\"_tbnd\",r=\"CSI/\";(function(){function k(a){this.t={};this.tick=function(a,d,c){this.t[a]=[void 0!=c?c:(new Date).getTime(),d];if(void 0==c)try{b.console.timeStamp(r+a)}catch(f){}};this[g](n,null,a)}var a;b.performance&&(a=b.performance.timing);var t=a?new k(a.responseStart):new k;b.jstiming={Timer:k,load:t};if(a){var d=a.navigationStart,f=a.responseStart;0<d&&f>=d&&(b.jstiming.srt=f-d)}if(a){var c=b.jstiming.load;0<d&&f>=d&&(c[g](p,void 0,d),c[g](h,p,f),c[g](l,h))}try{a=null,b[e]&&b[e].csi&&(a=Math.floor(b[e].csi().pageT),\n",
       "c&&0<d&&(c[g](q,void 0,b[e].csi().startE),c[g](m,q,d))),null==a&&b.gtbExternal&&(a=b.gtbExternal.pageT()),null==a&&b.external&&(a=b.external.pageT,c&&0<d&&(c[g](q,void 0,b.external.startE),c[g](m,q,d))),a&&(b.jstiming.pt=a)}catch(u){}})(); })()\n",
       "</script>\n",
       "<link rel=\"shortcut icon\" type=\"image/x-icon\" href=\"//www.google.com/images/icons/product/sites-16.ico\" />\n",
       "<link rel=\"apple-touch-icon\" href=\"https://ssl.gstatic.com/sites/p/ae80a1/system/app/images/apple-touch-icon.png\" type=\"image/png\" />\n",
       "<script type=\"text/javascript\">/* Copyright 2008 Google. */ (function() { var d=window,e=\"length\",h=\"\",k=\"__duration__\",l=\"function\";function m(c){return document.getElementById(c)}d.byId=m;function n(c){return c.replace(/^\\s+|\\s+$/g,h)}d.trim=n;var p=[],q=0;d.JOT_addListener=function(c,a,b){var f=new String(q++);c={eventName:c,handler:a,compId:b,key:f};p.push(c);return f};d.JOT_removeListenerByKey=function(c){for(var a=0;a<p[e];a++)if(p[a].key==c){p.splice(a,1);break}};d.JOT_removeAllListenersForName=function(c){for(var a=0;a<p[e];a++)p[a].eventName==c&&p.splice(a,1)};\n",
       "d.JOT_postEvent=function(c,a,b){var f={eventName:c,eventSrc:a||{},payload:b||{}};if(d.JOT_fullyLoaded)for(a=p[e],b=0;b<a&&b<p[e];b++){var g=p[b];g&&g.eventName==c&&(f.listenerCompId=g.compId||h,(g=typeof g.handler==l?g.handler:d[g.handler])&&g(f))}else d.JOT_delayedEvents.push({eventName:c,eventSrc:a,payload:b})};d.JOT_delayedEvents=[];d.JOT_fullyLoaded=!1;\n",
       "d.JOT_formatRelativeToNow=function(c,a){var b=((new Date).getTime()-c)/6E4;if(1440<=b||0>b)return null;var f=0;60<=b&&(b/=60,f=2);2<=b&&f++;return a?d.JOT_siteRelTimeStrs[f].replace(k,Math.floor(b)):d.JOT_userRelTimeStrs[f].replace(k,Math.floor(b))}; })()\n",
       "</script>\n",
       "<script>\n",
       "\n",
       "  \n",
       "\n",
       "  var breadcrumbs = [{\"path\":\"/site/alfonsorosa/docencia-1\",\"deleted\":false,\"title\":\"Alfonso Rosa Garc\\u00eda\",\"dir\":\"ltr\"}];\n",
       "  var JOT_clearDotPath = 'https://ssl.gstatic.com/sites/p/ae80a1/system/app/images/cleardot.gif';\n",
       "\n",
       "  \n",
       "  var JOT_userRelTimeStrs = [\"a minute ago\",\"__duration__ minutes ago\",\"an hour ago\",\"__duration__ hours ago\"];\n",
       "\n",
       "  \n",
       "  \n",
       "\n",
       "  \n",
       "\n",
       "  var webspace = {\"enableAnalytics\":false,\"pageSharingId\":\"jotspot_page\",\"enableUniversalAnalytics\":false,\"sharingPolicy\":\"OPENED\",\"siteTitle\":\"Alfonso Rosa Garc\\u00eda\",\"isStartPageEnabled\":false,\"adsensePublisherId\":null,\"features\":{\"languageSelectDefaultTextSetToDefault\":true,\"validateClientGvizDataSourceUrls\":true,\"moreMobileStyleImprovements\":true,\"accessibleSortingButtons\":true,\"analyticsFullSamplingRate\":true,\"domainAnalyticsInGAOnly\":true,\"noCaptcha\":true,\"fileCabinetScreenReaderFix\":true,\"updatedTosAndPrivacyLinks\":null,\"pageDrafts\":false,\"mobileOrientationFix\":true,\"plusBadge\":false,\"pdfEmbedSupport\":false,\"jsClickFix\":true},\"isPublic\":true,\"isConsumer\":true,\"serverFlags\":{\"cajaBaseUrl\":\"//www.gstatic.com/caja\",\"cajaDebugMode\":false},\"onepickBaseUrl\":\"https://docs.google.com\",\"domainAnalyticsAccountId\":\"\",\"plusPageId\":\"\",\"signInUrl\":\"https://www.google.com/a/SelectSession?continue\\u003dhttps://sites.google.com/site/alfonsorosa/docencia-1\\u0026service\\u003djotspot\",\"analyticsAccountId\":\"\",\"scottyUrl\":\"/_/upload\",\"homePath\":\"/\",\"siteNoticeUrlEnabled\":null,\"plusPageUrl\":\"\",\"adsensePromoClickedOrSiteIneligible\":true,\"csiReportUri\":\"https://gg.google.com/csi\",\"sharingId\":\"jotspot\",\"termsUrl\":\"//www.google.com/intl/en/policies/terms/\",\"gvizVersion\":1,\"editorResources\":{\"sitelayout\":[\"https://ssl.gstatic.com/sites/p/ae80a1/system/app/css/sitelayouteditor.css\"],\"text\":[\"https://ssl.gstatic.com/sites/p/ae80a1/system/js/codemirror.js\",\"https://ssl.gstatic.com/sites/p/ae80a1/system/app/css/codemirror_css.css\",\"https://ssl.gstatic.com/sites/p/ae80a1/system/js/trog_edit__en.js\",\"https://ssl.gstatic.com/sites/p/ae80a1/system/app/css/trogedit.css\",\"/site/alfonsorosa/_/rsrc/1439160688000/system/app/css/editor.css\",\"https://ssl.gstatic.com/sites/p/ae80a1/system/app/css/codeeditor.css\",\"/site/alfonsorosa/_/rsrc/1439160688000/system/app/css/camelot/editor-jfk.css\"]},\"sharingUrlPrefix\":\"/_/sharing\",\"isAdsenseEnabled\":true,\"domain\":\"defaultdomain\",\"baseUri\":\"/site/alfonsorosa\",\"name\":\"alfonsorosa\",\"siteTemplateId\":false,\"siteNoticeRevision\":null,\"siteNoticeUrlAddress\":null,\"siteNoticeMessage\":null,\"page\":{\"isRtlLocale\":false,\"canDeleteWebspace\":null,\"isPageDraft\":null,\"parentPath\":null,\"parentWuid\":null,\"siteLocale\":\"es\",\"timeZone\":\"America/Los_Angeles\",\"type\":\"text\",\"title\":\"Alfonso Rosa Garc\\u00eda\",\"locale\":\"en\",\"wuid\":\"wuid:gx:7b1bb72f63fbe05e\",\"revision\":51,\"path\":\"/docencia-1\",\"isSiteRtlLocale\":false,\"pageInheritsPermissions\":null,\"name\":\"docencia-1\",\"canChangePath\":true,\"state\":\"\",\"properties\":{},\"bidiEnabled\":false,\"currentTemplate\":{\"path\":\"/system/app/pagetemplates/text\",\"title\":\"Web Page\"}},\"canPublishScriptToAnyone\":true,\"user\":{\"keyboardShortcuts\":true,\"sessionIndex\":\"\",\"guest_\":true,\"displayNameOrEmail\":\"guest\",\"userName\":\"guest\",\"uid\":\"\",\"renderMobile\":false,\"domain\":\"\",\"namespace\":\"\",\"hasWriteAccess\":false,\"namespaceUser\":false,\"primaryEmail\":\"guest\",\"hasAdminAccess\":false},\"gadgets\":{\"baseUri\":\"/site/alfonsorosa/system/app/pages/gadgets\"}};\n",
       "  webspace.page.breadcrumbs = breadcrumbs;\n",
       "\n",
       "  \n",
       "  var JOT_siteRelTimeStrs = [\"hace un minuto\",\"hace __duration__ minutos\",\"hace una hora\",\"hace __duration__ horas\"];\n",
       "\n",
       "</script>\n",
       "<script type=\"text/javascript\">\n",
       "                window.jstiming.load.tick('scl');\n",
       "              </script>\n",
       "<meta name=\"title\" content=\"Alfonso Rosa García - Alfonso Rosa García\" />\n",
       "<meta itemprop=\"name\" content=\"Alfonso Rosa García - Alfonso Rosa García\" />\n",
       "<meta property=\"og:title\" content=\"Alfonso Rosa García - Alfonso Rosa García\" />\n",
       "<meta name=\"description\" content=\"Página web personal\" />\n",
       "<meta itemprop=\"description\" content=\"Página web personal\" />\n",
       "<meta id=\"meta-tag-description\" property=\"og:description\" content=\"Página web personal\" />\n",
       "<style type=\"text/css\">\n",
       "</style>\n",
       "<link rel=\"stylesheet\" type=\"text/css\" href=\"https://ssl.gstatic.com/sites/p/ae80a1/system/app/themes/default/standard-css-default-ltr-ltr.css\" />\n",
       "<link rel=\"stylesheet\" type=\"text/css\" href=\"/site/alfonsorosa/_/rsrc/1439160688000/system/app/css/overlay.css?cb=default100%250150goog-ws-nonenone\" />\n",
       "<link rel=\"stylesheet\" type=\"text/css\" href=\"/site/alfonsorosa/_/rsrc/1439160688000/system/app/css/camelot/allthemes-view.css\" />\n",
       "<!--[if IE]>\n",
       "          <link rel=\"stylesheet\" type=\"text/css\" href=\"/site/alfonsorosa/system/app/css/camelot/allthemes%2die.css\" />\n",
       "        <![endif]-->\n",
       "<title>Alfonso Rosa García - Alfonso Rosa García</title>\n",
       "<meta itemprop=\"image\" content=\"/site/alfonsorosa/_/rsrc/1228237712803/config/app/images/customLogo/customLogo.gif?revision=2\" />\n",
       "<meta property=\"og:image\" content=\"/site/alfonsorosa/_/rsrc/1228237712803/config/app/images/customLogo/customLogo.gif?revision=2\" />\n",
       "<script type=\"text/javascript\">\n",
       "                window.jstiming.load.tick('cl');\n",
       "              </script>\n",
       "</head>\n",
       "<body xmlns=\"http://www.google.com/ns/jotspot\" id=\"body\" class=\" es            \">\n",
       "<div id=\"sites-page-toolbar\" class=\"sites-header-divider\">\n",
       "<div xmlns=\"http://www.w3.org/1999/xhtml\" id=\"sites-status\" class=\"sites-status\" style=\"display:none;\"><div id=\"sites-notice\" class=\"sites-notice\" role=\"status\" aria-live=\"assertive\"> </div></div>\n",
       "</div>\n",
       "<div id=\"sites-chrome-everything-scrollbar\">\n",
       "<div id=\"sites-chrome-everything\" class=\"\">\n",
       "<div id=\"sites-chrome-page-wrapper\" style=\"direction: ltr\">\n",
       "<div id=\"sites-chrome-page-wrapper-inside\">\n",
       "<div xmlns=\"http://www.w3.org/1999/xhtml\" id=\"sites-chrome-header-wrapper\" style=\"\">\n",
       "<table id=\"sites-chrome-header\" class=\"sites-layout-hbox\" cellspacing=\"0\" style=\"\">\n",
       "<tr class=\"sites-header-primary-row\" id=\"sites-chrome-userheader\">\n",
       "</tr>\n",
       "<tr class=\"sites-header-secondary-row\" id=\"sites-chrome-horizontal-nav\">\n",
       "<td colspan=\"2\" id=\"sites-chrome-header-horizontal-nav-container\" role=\"navigation\">\n",
       "</td>\n",
       "</tr>\n",
       "</table>\n",
       "</div>\n",
       "<div id=\"sites-chrome-main-wrapper\">\n",
       "<div id=\"sites-chrome-main-wrapper-inside\">\n",
       "<table id=\"sites-chrome-main\" class=\"sites-layout-hbox\" cellspacing=\"0\" cellpadding=\"{scmCellpadding}\" border=\"0\">\n",
       "<tr>\n",
       "<td id=\"sites-chrome-sidebar-left\" class=\"sites-layout-sidebar-left\" style=\"display: none; width: 150px\">\n",
       "<div xmlns=\"http://www.w3.org/1999/xhtml\" id=\"COMP_2bd\" class=\"sites-embed\" role=\"navigation\"><h4 class=\"sites-embed-title\">Navegación</h4><div class=\"sites-embed-content sites-sidebar-nav\"><ul role=\"navigation\" jotId=\"navList\"><li class=\"nav-first \"><div dir=\"ltr\" style=\"padding-left: 5px;\"><a href=\"/site/alfonsorosa/docencia\" jotId=\"wuid:gx:366a6c88337a2c8f\" class=\"sites-navigation-link\">Docencia</a></div></li><li class=\"\"><div dir=\"ltr\" style=\"padding-left: 5px;\"><a href=\"/site/alfonsorosa/investigacion\" jotId=\"wuid:gx:188f85adbc2f0f86\" class=\"sites-navigation-link\">Investigación</a></div></li><li class=\"\"><div dir=\"ltr\" style=\"padding-left: 5px;\"><a href=\"/site/alfonsorosa/personal\" jotId=\"wuid:gx:261a479e148e0985\" class=\"sites-navigation-link\">Personal</a></div></li></ul></div></div>\n",
       "<div xmlns=\"http://www.w3.org/1999/xhtml\" id=\"COMP_30ac\" class=\"sites-embed\" role=\"complementary\"><h4 class=\"sites-embed-title\">Actividad reciente del sitio</h4><div class=\"sites-embed-content sites-sidebar-recent-activity\"><ul><li><a jotid=\"wuid:gx:1d72b2329ca76830\" dir=\"ltr\" href=\"https://sites.google.com/site/alfonsorosa/Homepage\">Alfonso Rosa García</a><div><span class=\"sites-text-secondary\">editado por Alfonso Rosa</span></div></li><li><a jotid=\"wuid:gx:7b1bb72f63fbe05e\" dir=\"ltr\" href=\"https://sites.google.com/site/alfonsorosa/docencia-1\">Alfonso Rosa García</a><div><span class=\"sites-text-secondary\">editado por Alfonso Rosa</span></div></li><li><a jotid=\"wuid:gx:1d72b2329ca76830\" dir=\"ltr\" href=\"https://sites.google.com/site/alfonsorosa/Homepage\">Alfonso Rosa García</a><div><span class=\"sites-text-secondary\">editado por Alfonso Rosa</span></div></li><li><a jotid=\"wuid:gx:ebf4e1bae0856f6\" dir=\"ltr\" href=\"https://sites.google.com/site/alfonsorosa/docencia-1/matematicas-para-la-empresa-ii\">Matemáticas para la empresa II</a><div><span class=\"sites-text-secondary\">editado por Alfonso Rosa</span></div></li><li><a jotid=\"wuid:gx:1d72b2329ca76830\" dir=\"ltr\" href=\"https://sites.google.com/site/alfonsorosa/Homepage\">Alfonso Rosa García</a><div><span class=\"sites-text-secondary\">editado por Alfonso Rosa</span></div></li><li class=\"sites-sidebar-recent-activity-viewall\"><a href=\"/site/alfonsorosa/system/app/pages/recentChanges\">View All</a></li></ul></div></div>\n",
       "<div xmlns=\"http://www.w3.org/1999/xhtml\" class=\"sites-embed-align-left-wrapping-off\" id=\"COMP_8351159629414798\" role=\"complementary\"><div class=\"sites-embed-border-on sites-embed sites-embed-full-width\" style=\"width:100%;\"><div class=\"sites-embed-content sites-embed-type-countdown\"><div aria-label=\"2451  días desde Simposio de Análisis Económico\" class=\"sites-embed-countdown sites-embed-countdown-fromdateutc-2008-12-10\"><span jotid=\"content\"><p style=\"text-align: center\"><strong aria-hidden=\"true\" class=\"sites-embed-countdown-daysapart\">2451</strong><span aria-hidden=\"true\"> días desde </span><br aria-hidden=\"true\" /><strong aria-hidden=\"true\">Simposio de Análisis Económico</strong></p></span></div></div></div></div>\n",
       "<div xmlns=\"http://www.w3.org/1999/xhtml\" class=\"sites-embed-align-left-wrapping-off\" id=\"COMP_2561453613056237\" role=\"complementary\"><div class=\"sites-embed-border-on sites-embed sites-embed-full-width\" style=\"width:100%;\"><div class=\"sites-embed-content sites-embed-type-countdown\"><div aria-label=\"2410  días desde Examen de Introducción a la Teoría Económica (1º de Empresariales)\" class=\"sites-embed-countdown sites-embed-countdown-fromdateutc-2009-01-20\"><span jotid=\"content\"><p style=\"text-align: center\"><strong aria-hidden=\"true\" class=\"sites-embed-countdown-daysapart\">2410</strong><span aria-hidden=\"true\"> días desde </span><br aria-hidden=\"true\" /><strong aria-hidden=\"true\">Examen de Introducción a la Teoría Económica (1º de Empresariales)</strong></p></span></div></div></div></div>\n",
       "</td>\n",
       "<td id=\"sites-canvas-wrapper\">\n",
       "<div id=\"sites-canvas\" role=\"main\">\n",
       "<div id=\"goog-ws-editor-toolbar-container\"> </div>\n",
       "<div xmlns=\"http://www.w3.org/1999/xhtml\" id=\"title-crumbs\" style=\"\">\n",
       "</div>\n",
       "<h3 xmlns=\"http://www.w3.org/1999/xhtml\" id=\"sites-page-title-header\" style=\"\" align=\"left\">\n",
       "<span id=\"sites-page-title\" dir=\"ltr\" tabindex=\"-1\" style=\"outline: none\">Alfonso Rosa García</span>\n",
       "</h3>\n",
       "<div id=\"sites-canvas-main\" class=\"sites-canvas-main\">\n",
       "<div id=\"sites-canvas-main-content\">\n",
       "<table xmlns=\"http://www.w3.org/1999/xhtml\" cellspacing=\"0\" class=\"sites-layout-name-one-column sites-layout-hbox\"><tbody><tr><td class=\"sites-layout-tile sites-tile-name-content-1\"><div dir=\"ltr\"><div><div><b><font size=\"5\">Docencia</font></b><br /><ul><li><a href=\"https://sites.google.com/site/alfonsorosa/docencia-1/economia-para-no-iniciados\" target=\"_blank\"><b>Materiales del curso MOOC: </b></a><a href=\"https://sites.google.com/site/alfonsorosa/docencia-1/economia-para-no-iniciados\" target=\"_blank\"><i><b>Economía para no Iniciados, Aprende Economía en poco más de dos tardes</b></i></a>, incluyendo 17 vídeos que introducen conceptos fundamentales de Economía.</li><li><b><a href=\"https://sites.google.com/site/alfonsorosa/docencia-1/microeconomia-i\" target=\"_blank\">Materiales\n",
       " docentes para <i>Microeconomía I</i></a></b>, incluyendo explicaciones de los \n",
       "conceptos en vídeo (un total de 60), diapositivas y ejercicios.</li><li><b><a href=\"https://sites.google.com/site/alfonsorosa/docencia-1/microeconomia-ii\" target=\"_blank\">Materiales\n",
       " docentes para <i>Microeconomía II</i></a></b>, incluyendo explicaciones de los \n",
       "conceptos en vídeo (un total de 79), diapositivas y ejercicios.</li><li><b style=\"font-size:10pt;background-color:transparent\"><a href=\"https://sites.google.com/site/alfonsorosa/docencia-1/matematicas-para-la-empresa-i\" target=\"_blank\">Materiales docentes para <i>Matemáticas para la Empresa I</i></a></b><span style=\"font-size:10pt;background-color:transparent\">, con explicaciones de los conceptos en vídeo (un total de 69 vídeos).</span></li><li><b style=\"font-size:10pt;background-color:transparent\"><a href=\"https://sites.google.com/site/alfonsorosa/docencia-1/matematicas-para-la-empresa-ii\" target=\"_blank\">Materiales docentes para <i>Matemáticas para la Empresa II</i></a></b><span style=\"font-size:10pt;background-color:transparent\">, con explicaciones de los conceptos en vídeo (un total de 53 vídeos).</span></li></ul></div><b><br /></b></div><div><b>Curso 2015/16</b><br /></div><div><div style=\"margin-left:40px\">Durante el curso 2015/16 impartiré <b><a href=\"https://sites.google.com/site/alfonsorosa/docencia-1/microeconomia-i\">Microeconomía I</a></b> y <b><a href=\"https://sites.google.com/site/alfonsorosa/docencia-1/microeconomia-ii\" target=\"_blank\">Microeconomía II</a> </b>en el <a href=\"http://www.ucam.edu/estudios/grados/ade-presencial\" target=\"_blank\" rel=\"nofollow\">Grado de Administración y Dirección de Empresas</a> e Introducción a la Economía y Economía del Trabajo en el <a href=\"http://www.ucam.edu/estudios/grados/laborales-semipresencial\" target=\"_blank\" rel=\"nofollow\">Grado en Relaciones Laborales</a>. Asimismo, imparto un módulo sobre <b>Análisis Económico</b> dentro de la asignatura de <b>Entorno Económico</b> en el <a href=\"http://www.ucam.edu/estudios/postgrados/mba-presencial\" target=\"_blank\" rel=\"nofollow\">MBA en español</a> y en el <a href=\"http://international.ucam.edu/studies/mba/presentation/\" target=\"_blank\" rel=\"nofollow\">MBA en inglés</a>, así como en la edición de dicho Máster en la <a href=\"http://uy.ucam.edu/programas/direccion-de-empresas-mba\" target=\"_blank\" rel=\"nofollow\">UCAM Business School en Montevideo</a>. En el <a href=\"http://www.ucam.edu/estudios/doctorado/programas/rd992011/programa-oficial-de-doctorado-en-ciencias-sociales\" target=\"_blank\" rel=\"nofollow\">Programa de Doctorado en Ciencias Sociales</a>, imparto un Seminario sobre Redes Sociales Complejas (en español) y un Seminario sobre Economía Experimental (en español e inglés). Coordino, además, el <a href=\"http://international.ucam.edu/studies/mba/presentation/\" target=\"_blank\" rel=\"nofollow\">MBA en inglés</a> y el Módulo <b>Planning, Human Resources and Financial Management</b> en el <a href=\"http://international.ucam.edu/studies/master-mba-sports-management\" target=\"_blank\" rel=\"nofollow\">MBA Sports Management</a>.<br /></div></div><div><div><div><br /><br /></div><div><b><font size=\"3\">Docencia impartida en el pasado</font>:<br /></b></div><div><div style=\"margin-left:3px;font-family:Lucida Grande,Verdana,Lucida,Helvetica,Arial,sans-serif;text-align:justify\"><div style=\"font-size:10px\"><b><br /></b></div><p style=\"padding:0px;margin:0px 0px 1em\"><span style=\"color:rgb(68,68,68)\"><u><b>UCAM</b></u></span></p><p style=\"padding:0px;margin:0px 0px 1em\"><b style=\"font-size:10px\">2014/15</b><font size=\"1\"> - <i>Grado</i>: </font><a href=\"https://sites.google.com/site/alfonsorosa/docencia-1/microeconomia-i\" style=\"font-size:10px\" target=\"_blank\">Microeconomía I</a><font size=\"1\">, </font><a href=\"https://sites.google.com/site/alfonsorosa/docencia-1/microeconomia-ii\" style=\"font-size:10px\" target=\"_blank\">Microeconomía II</a><font size=\"1\">, </font><b style=\"font-size:x-small;font-family:Arial,Verdana,sans-serif;text-align:left;background-color:transparent\"><a href=\"https://sites.google.com/site/alfonsorosa/docencia-1/matematicas-para-la-empresa-i\" target=\"_blank\">Matemáticas para la Empresa I</a></b><span style=\"font-size:x-small;font-family:Arial,Verdana,sans-serif;text-align:left;background-color:transparent\"> y</span><span style=\"font-size:x-small;background-color:transparent\"> </span><b style=\"font-family:Arial,Verdana,sans-serif;text-align:left;background-color:transparent\"><a href=\"https://sites.google.com/site/alfonsorosa/docencia-1/matematicas-para-la-empresa-ii\" style=\"font-size:x-small\" target=\"_blank\">Matemáticas para la Empresa II</a> </b><span style=\"font-size:10px;background-color:transparent\">(1º GADE) e Introducción a la Economía (1º GRRLL)</span><span style=\"font-size:10px;background-color:transparent\"><span style=\"font-size:10px;background-color:transparent\">.</span> </span><br /><span style=\"font-size:10px;background-color:transparent\"><span>    </span><span>    </span><span>    </span><span>    </span><i>Master</i>: Análisis Económico/Economic Analysis (MBA en español y en inglés) en la <a href=\"http://www.ucam.edu\" target=\"_blank\" rel=\"nofollow\">UCAM</a> y Análisis Económico (MBA) en <a href=\"http://uy.ucam.edu/\" target=\"_blank\" rel=\"nofollow\">UCAM Business School Uruguay</a></span><span style=\"font-size:10px;background-color:transparent\">.</span><br /><span style=\"font-size:10px;background-color:transparent\"><span>    </span><span>    </span><span>    </span><span>    <i>Doctorado</i>: </span>Seminario Redes Sociales Complejas, en español, y Seminario Economía Experimental, en español e inglés (<a href=\"http://investigacion.ucam.edu/doctorado/doctorado_cc_sociales\" target=\"_blank\" rel=\"nofollow\">Programa de Doctorado en Ciencias Sociales</a>).</span><br /><span style=\"font-size:10px;background-color:transparent\"><span style=\"font-size:10px;background-color:transparent\"><span>    </span><span>    </span><span>    </span><span>    </span></span><i>Coordinación</i>: <a href=\"http://international.ucam.edu/studies/mba/presentation/\" target=\"_blank\" rel=\"nofollow\">MBA en inglés</a> y Módulo Planning, Human Resources and Financial Management en el <a href=\"http://international.ucam.edu/studies/master-mba-sports-management\" target=\"_blank\" rel=\"nofollow\">MBA Sports Management</a>.</span></p></div><div style=\"margin-left:3px;font-family:Lucida Grande,Verdana,Lucida,Helvetica,Arial,sans-serif;text-align:justify\"><p style=\"padding:0px;margin:0px 0px 1em\"><b style=\"font-size:10px\">2013/14</b><font size=\"1\"> -</font><font size=\"1\"><font size=\"1\"><i> Grado</i>: </font></font><a href=\"https://sites.google.com/site/alfonsorosa/docencia-1/microeconomia-i\" style=\"font-size:10px\" target=\"_blank\">Microeconomía I</a><font size=\"1\">, </font><a href=\"https://sites.google.com/site/alfonsorosa/docencia-1/microeconomia-ii\" style=\"font-size:10px\" target=\"_blank\">Microeconomía II</a><font size=\"1\">, </font><b style=\"font-size:x-small;font-family:Arial,Verdana,sans-serif;text-align:left;background-color:transparent\"><a href=\"https://sites.google.com/site/alfonsorosa/docencia-1/matematicas-para-la-empresa-i\" target=\"_blank\">Matemáticas para la Empresa I</a></b><span style=\"font-size:x-small;font-family:Arial,Verdana,sans-serif;text-align:left;background-color:transparent\"> y</span><span style=\"font-size:x-small;background-color:transparent\"> </span><b style=\"font-family:Arial,Verdana,sans-serif;text-align:left;background-color:transparent\"><a href=\"https://sites.google.com/site/alfonsorosa/docencia-1/matematicas-para-la-empresa-ii\" style=\"font-size:x-small\" target=\"_blank\">Matemáticas para la Empresa II</a> </b><span style=\"font-size:10px;background-color:transparent\">(1º GADE)</span><span style=\"font-size:10px;background-color:transparent\"><span style=\"font-size:10px;background-color:transparent\">.</span> </span><br /><span style=\"font-size:10px;background-color:transparent\"><span>    </span><span>    </span><span>    </span><span>    </span><i>Master</i>: Análisis Económico/Economic Analysis (MBA en español y en inglés) en la <a href=\"http://www.ucam.edu\" target=\"_blank\" rel=\"nofollow\">UCAM </a>y Análisis Económico (MBA) en <a href=\"http://uy.ucam.edu/\" target=\"_blank\" rel=\"nofollow\">UCAM Business School Uruguay</a></span><span style=\"font-size:10px;background-color:transparent\">.</span><br /><span style=\"font-size:10px;background-color:transparent\"><span>    </span><span>    </span><span>    </span><span style=\"font-size:10px;background-color:transparent\">    </span><i>Coordinación</i>: <a href=\"http://international.ucam.edu/studies/mba/presentation/\" target=\"_blank\" rel=\"nofollow\">MBA en inglés</a>.</span><br /><span style=\"font-size:10px;background-color:transparent\"><span>    </span><span>    </span><span>    </span><span>    </span><i>Cursos MOOC</i>: </span> <font size=\"1\"><span style=\"font-family:arial,sans-serif\"><a href=\"https://sites.google.com/site/alfonsorosa/docencia-1/economia-para-no-iniciados\" target=\"_blank\">Economía para no Iniciados, Aprende Economía en poco más de dos tardes</a><font size=\"1\"> </font>en la <a href=\"http://economia-no-iniciados.appspot.com/preview\" target=\"_blank\">Plataforma MOOC de la UCAM</a> y en <font size=\"1\"><a href=\"https://www.miriadax.net/web/curso-basico-economia\" target=\"_blank\" rel=\"nofollow\">Miriadax</a></font> (más de 10.000 participantes en total).<br /></span></font></p></div><div style=\"margin-left:3px;font-family:Lucida Grande,Verdana,Lucida,Helvetica,Arial,sans-serif;text-align:justify\"><p style=\"font-size:10px;padding:0px;margin:0px 0px 1em\"><b>2012/13</b> - <font size=\"1\"><font size=\"1\"><i>Grado</i>: </font></font> <a href=\"https://sites.google.com/site/alfonsorosa/docencia-1/microeconomia-i\" target=\"_blank\">Microeconomía I</a>, <a href=\"https://sites.google.com/site/alfonsorosa/docencia-1/microeconomia-ii\" target=\"_blank\">Microeconomía II</a> (1º GADE) y Economía Mundial (2º GADE)<span style=\"font-size:10px;background-color:transparent\">.</span></p><p style=\"font-size:10px;padding:0px;margin:0px 0px 1em\"><br /></p><p style=\"font-size:10px;padding:0px;margin:0px 0px 1em\"><span style=\"color:rgb(68,68,68)\"><u><b>Universidad de Murcia</b></u></span></p><p style=\"font-size:10px;padding:0px;margin:0px 0px 1em\"><b>2011/12</b> - <font size=\"1\"><i>Grado</i>: </font>Introducción a la Economía I (1º GADE) y Microeconomía I (2º G. Economía)<span style=\"font-size:10px;background-color:transparent\">.</span></p><p style=\"font-size:10px;padding:0px;margin:0px 0px 1em\"><b>2010/11</b> - <font size=\"1\"><i>Grado</i>: </font>Introducción a la Economía I y II (1º GADE)<span style=\"font-size:10px;background-color:transparent\">.</span></p><p style=\"font-size:10px;padding:0px;margin:0px 0px 1em\"><b>2009/10</b> - <font size=\"1\"><i>Grado</i>: </font>Introducción a la Economía II (1º GADE)<span style=\"font-size:10px;background-color:transparent\">.</span></p><p style=\"font-size:10px;padding:0px;margin:0px 0px 1em\"><b>2008/09</b> - <i>Diplomatura: </i>Introducción a la Teoría Económica (1º Dipl. Empresariales) y Economía Política (1º Dipl. Empresariales)<span style=\"font-size:10px;background-color:transparent\">.</span></p></div><div style=\"margin-left:3px;font-family:Lucida Grande,Verdana,Lucida,Helvetica,Arial,sans-serif;text-align:justify\"><p style=\"font-size:10px;padding:0px;margin:0px 0px 1em\"><span style=\"color:rgb(68,68,68)\"><u><b>Universidad de Alicante</b></u></span><br /></p></div><div style=\"margin-left:3px;font-family:Lucida Grande,Verdana,Lucida,Helvetica,Arial,sans-serif;text-align:justify\"><p style=\"font-size:10px;padding:0px;margin:0px 0px 1em\"><b>2008/09</b> - <i>Cursos de Doctorado</i>: Introduction to Mathematics (1º Quantitative Economics Doctorate)<span style=\"font-size:10px;background-color:transparent\">.</span></p><p style=\"font-size:10px;padding:0px;margin:0px 0px 1em\"><b>2007/08</b> - <i>Diplomatura/Licenciatura</i>: Matemáticas (1º Dipl. Empresariales) e Introducción a la Microeconomía (1º Lic. Economía)<span style=\"font-size:10px;background-color:transparent\">.</span></p><p style=\"font-size:10px;padding:0px;margin:0px 0px 1em\"><b>2006/07</b> - <i>Licenciatura</i>: Microeconomía II (2º Lic. ADE), Teoría de la Decisión (5º Lic. Matemáticas)<span style=\"font-size:10px;background-color:transparent\">.</span></p><p style=\"font-size:10px;padding:0px;margin:0px 0px 1em\"><span>    </span><span>    </span><span>    </span><span>   <i>Cursos de Doctorado</i>: </span>Macroeconomics II (1º Quantitative Economics Doctorate)<span style=\"font-size:10px;background-color:transparent\">.</span></p><p style=\"font-size:10px;padding:0px;margin:0px 0px 1em\"><b>2005/06</b> - <i>Licenciatura</i>: Macroeconomía (1º Lic. Economía)<span style=\"font-size:10px;background-color:transparent\">.</span></p><p style=\"font-size:10px;padding:0px;margin:0px 0px 1em\"><span><i><span>    </span><span>    </span><span>    </span>    Cursos de Doctorado</i>: </span>Macroeconomics II (1º Quantitative Economics Doctorate)<span style=\"font-size:10px;background-color:transparent\">.</span></p><p style=\"font-size:10px;padding:0px;margin:0px 0px 1em\"><b>2004/05</b> - <i>Diplomatura</i>: Matemáticas (1º Dipl. Empresariales)<span style=\"font-size:10px;background-color:transparent\">.</span></p><p style=\"font-size:10px;padding:0px;margin:0px 0px 1em\"><br /></p></div><div style=\"margin-left:3px;font-family:Lucida Grande,Verdana,Lucida,Helvetica,Arial,sans-serif;text-align:justify\"><p style=\"font-size:10px;padding:0px;margin:0px 0px 1em\"><a href=\"/site/alfonsorosa/\">Volver a la página principal</a></p></div></div></div></div></div></td></tr></tbody></table>\n",
       "</div> \n",
       "</div> \n",
       "<div id=\"sites-canvas-bottom-panel\">\n",
       "<div xmlns=\"http://www.w3.org/1999/xhtml\" id=\"COMP_page-subpages\" class=\"sites-canvas-bottom-panel-wrapper\" style=\"\">\n",
       "<div class=\"sites-subpages\">\n",
       "            Subpáginas <span id=\"subpages-total-number\">(5):</span>\n",
       "<span>\n",
       "<a href=\"/site/alfonsorosa/docencia-1/economia-para-no-iniciados\" dir=\"ltr\">Curso Básico de Economía</a>\n",
       "</span>\n",
       "<span>\n",
       "<a href=\"/site/alfonsorosa/docencia-1/matematicas-para-la-empresa-i\" dir=\"ltr\">Matematicas para la Empresa I</a>\n",
       "</span>\n",
       "<span>\n",
       "<a href=\"/site/alfonsorosa/docencia-1/matematicas-para-la-empresa-ii\" dir=\"ltr\">Matemáticas para la empresa II</a>\n",
       "</span>\n",
       "<span>\n",
       "<a href=\"/site/alfonsorosa/docencia-1/microeconomia-i\" dir=\"ltr\">Materiales docentes para Microeconomía I</a>\n",
       "</span>\n",
       "<span>\n",
       "<a href=\"/site/alfonsorosa/docencia-1/microeconomia-ii\" dir=\"ltr\">Materiales docentes para Microeconomía II</a>\n",
       "</span>\n",
       "</div>\n",
       "</div>\n",
       "<div id=\"sites-attachments-container\">\n",
       "</div>\n",
       "</div>\n",
       "</div> \n",
       "</td> \n",
       "</tr>\n",
       "</table> \n",
       "</div> \n",
       "</div> \n",
       "<div id=\"sites-chrome-footer-wrapper\">\n",
       "<div id=\"sites-chrome-footer-wrapper-inside\">\n",
       "<div id=\"sites-chrome-footer\">\n",
       "</div>\n",
       "</div>\n",
       "</div>\n",
       "</div> \n",
       "</div> \n",
       "<div id=\"sites-chrome-adminfooter-container\">\n",
       "<div xmlns=\"http://www.w3.org/1999/xhtml\" class=\"sites-adminfooter\" role=\"navigation\"><p><a class=\"sites-system-link\" href=\"https://www.google.com/a/UniversalLogin?service=jotspot&amp;continue=https://sites.google.com/site/alfonsorosa/docencia-1\">Sign in</a><span aria-hidden=\"true\">|</span><a class=\"sites-system-link\" href=\"/site/alfonsorosa/system/app/pages/recentChanges\">Recent Site Activity</a><span aria-hidden=\"true\">|</span><a class=\"sites-system-link\" href=\"/site/alfonsorosa/system/app/pages/reportAbuse\" target=\"_blank\">Report Abuse</a><span aria-hidden=\"true\">|</span><a class=\"sites-system-link\" href=\"javascript:;\" onclick=\"window.open(webspace.printUrl)\">Print Page</a><span aria-hidden=\"true\">|</span><span class=\"sites-system-link\">Powered By</span> <b class=\"powered-by\"><a href=\"http://sites.google.com\">Google Sites</a></b></p></div>\n",
       "</div>\n",
       "</div> \n",
       "</div> \n",
       "<div id=\"sites-chrome-onebar-footer\">\n",
       "</div>\n",
       "<script xmlns=\"http://www.w3.org/1999/xhtml\" type=\"text/javascript\">\n",
       "    window.jstiming.load.tick('sjl');\n",
       "  </script>\n",
       "<script xmlns=\"http://www.w3.org/1999/xhtml\" src=\"https://ssl.gstatic.com/sites/p/ae80a1/system/js/jot_min_view__es.js\"></script>\n",
       "<script xmlns=\"http://www.w3.org/1999/xhtml\" type=\"text/javascript\">\n",
       "    window.jstiming.load.tick('jl');\n",
       "  </script>\n",
       "<script xmlns=\"http://www.w3.org/1999/xhtml\">\n",
       "      \n",
       "          sites.core.Analytics.createTracker();\n",
       "          sites.core.Analytics.trackPageview();\n",
       "        \n",
       "    </script>\n",
       "<script xmlns=\"http://www.w3.org/1999/xhtml\" type=\"text/javascript\">\n",
       "      gsites.HoverPopupMenu.createSiteDropdownMenus('sites-header-nav-dropdown', false);\n",
       "    </script>\n",
       "<script xmlns=\"http://www.w3.org/1999/xhtml\" type=\"text/javascript\" defer=\"true\">\n",
       "            JOT_setupNav(\"2bd\", \"Navegación\", false);\n",
       "            JOT_addListener('titleChange', 'JOT_NAVIGATION_titleChange', 'COMP_2bd');\n",
       "          </script>\n",
       "<script xmlns=\"http://www.w3.org/1999/xhtml\" type=\"text/javascript\" defer=\"true\">\n",
       "          JOT_addListener('titleChange', 'JOT_RECENTCHANGES_titleChange', 'COMP_30ac');\n",
       "        </script>\n",
       "<script xmlns=\"http://www.w3.org/1999/xhtml\" type=\"text/javascript\">\n",
       "  setTimeout(function() {\n",
       "    var fingerprint = gsites.date.TimeZone.getFingerprint([]);\n",
       "    gsites.Xhr.send('https://sites.google.com/site/alfonsorosa/_/tz', null, null, 'GET', null, null, { afjstz: fingerprint });\n",
       "  }, 500);\n",
       "</script>\n",
       "<script xmlns=\"http://www.w3.org/1999/xhtml\">\n",
       "                    window.onload = function() {\n",
       "                      if (false) {\n",
       "                        JOT_setMobilePreview();\n",
       "                      }\n",
       "                      var loadTimer = window.jstiming.load;\n",
       "                      loadTimer.tick(\"ol\");\n",
       "                      loadTimer[\"name\"] = \"load,\" + webspace.page.type + \",user_page\";\n",
       "                      window.jstiming.report(loadTimer, {}, 'https://gg.google.com/csi');\n",
       "                    }\n",
       "                  </script>\n",
       "<script xmlns=\"http://www.w3.org/1999/xhtml\" type=\"text/javascript\">\n",
       "        JOT_insertAnalyticsCode(false,\n",
       "            false);\n",
       "      </script>\n",
       "<script xmlns=\"http://www.w3.org/1999/xhtml\" type=\"text/javascript\">\n",
       "    var maestroRunner = new gsites.pages.view.SitesMaestroRunner(\n",
       "        webspace, \"es\");\n",
       "    maestroRunner.initListeners();\n",
       "    maestroRunner.installEditRender();\n",
       "  </script>\n",
       "<script xmlns=\"http://www.w3.org/1999/xhtml\">\n",
       "        JOT_insertTranslateCode('en', 'es');\n",
       "      </script>\n",
       "<script xmlns=\"http://www.w3.org/1999/xhtml\" type=\"text/javascript\" defer=\"true\">\n",
       "  //<![CDATA[\n",
       "    // Decorate any fastUI buttons on the page with a class of 'goog-button'.\n",
       "    if (webspace.user.hasWriteAccess) {\n",
       "      JOT_decorateButtons();\n",
       "    }\n",
       "\n",
       "    // Fires delayed events.\n",
       "    (function() {\n",
       "      JOT_fullyLoaded = true;\n",
       "      var delayedEvents = JOT_delayedEvents;\n",
       "      for (var x = 0; x < delayedEvents.length; x++) {\n",
       "        var event = delayedEvents[x];\n",
       "        JOT_postEvent(event.eventName, event.eventSrc, event.payload);\n",
       "      }\n",
       "      JOT_delayedEvents = null;\n",
       "      JOT_postEvent('pageLoaded');\n",
       "    })();\n",
       "  //]]>\n",
       "</script>\n",
       "<script xmlns=\"http://www.w3.org/1999/xhtml\" type=\"text/javascript\">\n",
       "    JOT_postEvent('decorateGvizCharts');\n",
       "  </script>\n",
       "<script type=\"text/javascript\">\n",
       "          JOT_setupPostRenderingManager();\n",
       "        </script>\n",
       "<script type=\"text/javascript\">\n",
       "          JOT_postEvent('renderPlus', null, 'sites-chrome-main');\n",
       "        </script>\n",
       "<div id=\"server-timer-div\" style=\"display:none\"> </div>\n",
       "<script type=\"text/javascript\">\n",
       "          window.jstiming.load.tick('render');\n",
       "          JOT_postEvent('usercontentrendered', this);\n",
       "        </script>\n",
       "</body>\n",
       "</html>\n"
      ],
      "text/plain": [
       "<IPython.core.display.HTML object>"
      ]
     },
     "metadata": {},
     "output_type": "display_data"
    },
    {
     "data": {
      "text/plain": [
       "<function __main__.read_web>"
      ]
     },
     "execution_count": 204,
     "metadata": {},
     "output_type": "execute_result"
    }
   ],
   "source": [
    "\n",
    "urls = {'WEB': 'https://sites.google.com/site/alfonsorosa/docencia-1',\n",
    "        'Teoría': 'https://sites.google.com/site/alfonsorosa/docencia-1/microeconomia-ii'}\n",
    "def read_web(x):\n",
    "    return display(HTML(url=x))\n",
    "\n",
    "interact(read_web, x=urls)"
   ]
  },
  {
   "cell_type": "markdown",
   "metadata": {},
   "source": [
    "#  1.\n"
   ]
  },
  {
   "cell_type": "code",
   "execution_count": 24,
   "metadata": {
    "collapsed": false,
    "scrolled": true
   },
   "outputs": [
    {
     "data": {
      "text/latex": [
       "$$8 Q^{2} + 4 Q + 500$$"
      ],
      "text/plain": [
       "   2            \n",
       "8⋅Q  + 4⋅Q + 500"
      ]
     },
     "execution_count": 24,
     "metadata": {},
     "output_type": "execute_result"
    }
   ],
   "source": [
    "ct = 500 + 4 * Q + 8 * Q ** 2\n",
    "ct"
   ]
  },
  {
   "cell_type": "code",
   "execution_count": 25,
   "metadata": {
    "collapsed": false
   },
   "outputs": [
    {
     "data": {
      "text/latex": [
       "$$- 2 Q + 304$$"
      ],
      "text/plain": [
       "-2⋅Q + 304"
      ]
     },
     "execution_count": 25,
     "metadata": {},
     "output_type": "execute_result"
    }
   ],
   "source": [
    "Pd = 304 - 2 * Q\n",
    "Pd"
   ]
  },
  {
   "cell_type": "code",
   "execution_count": 26,
   "metadata": {
    "collapsed": false
   },
   "outputs": [
    {
     "data": {
      "text/latex": [
       "$$Q \\left(- 2 Q + 304\\right)$$"
      ],
      "text/plain": [
       "Q⋅(-2⋅Q + 304)"
      ]
     },
     "execution_count": 26,
     "metadata": {},
     "output_type": "execute_result"
    }
   ],
   "source": [
    "I = Pd * Q\n",
    "I"
   ]
  },
  {
   "cell_type": "code",
   "execution_count": 27,
   "metadata": {
    "collapsed": true
   },
   "outputs": [],
   "source": [
    "cmg = ct.diff(Q)\n",
    "img = I.diff(Q)"
   ]
  },
  {
   "cell_type": "code",
   "execution_count": 29,
   "metadata": {
    "collapsed": false
   },
   "outputs": [
    {
     "data": {
      "image/png": "[encoded data removed]",
      "text/plain": [
       "<matplotlib.figure.Figure at 0x11177e128>"
      ]
     },
     "metadata": {},
     "output_type": "display_data"
    },
    {
     "data": {
      "text/plain": [
       "<sympy.plotting.plot.Plot at 0x11177ef28>"
      ]
     },
     "execution_count": 29,
     "metadata": {},
     "output_type": "execute_result"
    }
   ],
   "source": [
    "plot(cmg, img, Pd, (Q, 0, 70))"
   ]
  },
  {
   "cell_type": "code",
   "execution_count": 31,
   "metadata": {
    "collapsed": false
   },
   "outputs": [
    {
     "data": {
      "text/latex": [
       "$$274$$"
      ],
      "text/plain": [
       "274"
      ]
     },
     "execution_count": 31,
     "metadata": {},
     "output_type": "execute_result"
    }
   ],
   "source": [
    "304 - 2 * 15"
   ]
  },
  {
   "cell_type": "markdown",
   "metadata": {},
   "source": [
    "# 11\n",
    "\n",
    "Sea una industria duopolística en la que la curva inversa de demanda viene dada por $P = 10 - Q$, las empresas compiten en cantidades con los mismos costes $C(q_j)= 4q_j$ y la empresa i decide primero la cantidad de output.\n",
    "\n",
    "- a) Calcular las cantidades producidas por cada empresa, el precio del bien y los beneficios de cada empresa si F=0.\n",
    "\n",
    "\n",
    "- b) Suponer que la empresa 2 le plantea a su rival la posibilidad de que deje de comportarse como líder y pasen a competir simultáneamente. ¿Cuál es la cantidad mínima de dinero que estaría dispuesta a aceptar la empresa i para dejar su papel de líder en la industria? ¿Cuál es la cantidad máxima que está dispuesta a pagar la empresa 2 para convencer a la i que deje su papel? ¿Existe posibilidad de acuerdo entre los rivales? Explicar."
   ]
  },
  {
   "cell_type": "markdown",
   "metadata": {},
   "source": [
    "# 12\n",
    "Suponer un oligopolio con n empresas idénticas que compiten simultáneamente en precios y producen con costes $c = 2q_i$. La demanda de mercado es $P= 50 - Q$.\n",
    "Demostrar, considerando un horizonte temporal indefinido, que cuanto mayor sea \"n\" los acuerdos colusivos son más dificiles de sostener ¿Cual es el valor más bajo de 6 que\n",
    "haría sostenible la colusión tácita?"
   ]
  },
  {
   "cell_type": "markdown",
   "metadata": {},
   "source": [
    "# 13\n",
    "(Fusiones y Eficiencia) Considerar un oligopolio de Cournot con 3 empresas y una demanda lineal $Q = 100-P$. \n",
    "Las empresas producen con costes $C1= 10q_l,\\\\ C_2= 20q_2,\\\\ C_3= 20q_3$\n",
    "\n",
    "### Se pide:\n",
    "\n",
    "- a) Hallar el equilibrio y el nivel de bienestar social.\n",
    "- b) Suponer que las empresas dos y tres se fusionaran. Si con la fusión la nueva empresa no tuviera ningún ahorro en costes de forma que C=20q, ¿les interesaría a las empresas fusionarse?\n",
    "- c) Suponer que la fusión permitiera a la nueva empresa obtener cierta reducción en sus costes de producción, que pasarían a ser C= 16q. ¿Sería rentable la fusión para las empresas?¿Cómo afectaría al excedente de los consumidores, al de los productores, y al Bienestar social?\n",
    "- d) Suponer que la fusión permitiera a la nueva empresa obtener una reducción muy alta en sus costes, que pasarían a ser C= q. ¿Sería rentable la fusión para las empresas?¿Cómo afectaría al excedente de los consumidores, al de los productores, y al Bienestar social?\n",
    "- e) ¿A qué conclusiones nos permite llegar este ejercicio respecto a cuándo una fusión es beneficiosa y respecto a los posibles efectos de una fusión sobre el bienestar social? ¿Las fusiones siempre van a perjudicar a los consumidores?"
   ]
  },
  {
   "cell_type": "code",
   "execution_count": null,
   "metadata": {
    "collapsed": true
   },
   "outputs": [],
   "source": []
  },
  {
   "cell_type": "code",
   "execution_count": null,
   "metadata": {
    "collapsed": true
   },
   "outputs": [],
   "source": []
  },
  {
   "cell_type": "code",
   "execution_count": null,
   "metadata": {
    "collapsed": true
   },
   "outputs": [],
   "source": []
  },
  {
   "cell_type": "code",
   "execution_count": null,
   "metadata": {
    "collapsed": true
   },
   "outputs": [],
   "source": []
  }
 ],
 "metadata": {
  "kernelspec": {
   "display_name": "Python 3",
   "language": "python",
   "name": "python3"
  },
  "language_info": {
   "codemirror_mode": {
    "name": "ipython",
    "version": 3
   },
   "file_extension": ".py",
   "mimetype": "text/x-python",
   "name": "python",
   "nbconvert_exporter": "python",
   "pygments_lexer": "ipython3",
   "version": "3.4.3"
  }
 },
 "nbformat": 4,
 "nbformat_minor": 0
}
